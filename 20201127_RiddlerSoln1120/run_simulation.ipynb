{
 "cells": [
  {
   "cell_type": "code",
   "execution_count": 1,
   "metadata": {},
   "outputs": [],
   "source": [
    "import os\n",
    "import time\n",
    "\n",
    "# math\n",
    "import numpy as np\n",
    "from numpy.random import default_rng, SeedSequence\n",
    "import pathos.multiprocessing as mp\n",
    "\n",
    "# data manipulation\n",
    "import pandas as pd\n",
    "\n",
    "# plotting\n",
    "import matplotlib.pyplot as plt\n",
    "import seaborn as sns"
   ]
  },
  {
   "cell_type": "code",
   "execution_count": 2,
   "metadata": {},
   "outputs": [],
   "source": [
    "def cranberry_passing_simulation(n_guests = 20, rng = default_rng()):\n",
    "    '''\n",
    "    Simulate cranberry passing process.\n",
    "    \n",
    "    Inputs:\n",
    "      n_guests - number of guests at the table\n",
    "      rng - random number generator, uses default_rng by default (:\n",
    "    '''   \n",
    "    \n",
    "    # received_sauce is 1 if sauce has been received 0 otherwise\n",
    "    received_sauce = np.zeros(n_guests, dtype='uint')\n",
    "    \n",
    "    # array whose i^th entry will be the i^th guest to receive \n",
    "    # the cranberry sauce\n",
    "    received_order = np.zeros(n_guests, dtype='int')\n",
    "    \n",
    "    # initialize the problem\n",
    "    current_position = 0\n",
    "    received_sauce[current_position] = 1\n",
    "    received_order[0] = 0\n",
    "    n_received = 1\n",
    "    n_passes = 0\n",
    "    pos = [0]\n",
    "    \n",
    "    # iterate until everyone has received the cranberry sauce\n",
    "    while n_received < n_guests:\n",
    "        step = 2 * rng.integers(0, 1, endpoint =True) - 1\n",
    "        \n",
    "        current_position = (current_position + step) % n_guests\n",
    "        pos.append(current_position)\n",
    "        n_passes += 1\n",
    "                \n",
    "        if received_sauce[current_position] == 0:\n",
    "            received_sauce[current_position] = 1\n",
    "            received_order[n_received] = current_position\n",
    "            n_received += 1\n",
    "    \n",
    "    received_last = received_order[-1]\n",
    "        \n",
    "    return received_last, n_passes"
   ]
  },
  {
   "cell_type": "code",
   "execution_count": 3,
   "metadata": {},
   "outputs": [],
   "source": [
    "def repeat_cranberry_passing_simulation(n_guests = 20, n_simulations = 10, \n",
    "                                        rng = default_rng()):\n",
    "    '''\n",
    "    Repeat the cranberry passing simulation.\n",
    "    \n",
    "    Inputs:\n",
    "      n_guests - number of guests at the table\n",
    "      n_simulations - number of runs to simulate\n",
    "      rng - random number generator, uses default_rng by default (:\n",
    "    '''   \n",
    "    \n",
    "    # simulation results has an array with columns: received_last, n_passes\n",
    "    sim_rslts = np.zeros((n_simulations, 2), dtype = 'int')\n",
    "        \n",
    "    # simulate\n",
    "    for i in range(n_simulations):\n",
    "        sim_rslts[i] = cranberry_passing_simulation(n_guests = n_guests, rng = rng)\n",
    "    \n",
    "    # add labels to columns\n",
    "    sim_rslts = pd.DataFrame(sim_rslts, columns = ['received_last', 'n_passes'])\n",
    "    \n",
    "    return sim_rslts"
   ]
  },
  {
   "cell_type": "code",
   "execution_count": 4,
   "metadata": {},
   "outputs": [],
   "source": [
    "def repeat_cranberry_passing_simulation_mp(n_guests = 20, n_simulations = 10, n_cores = 1, \n",
    "                                           seed = None):\n",
    "    '''\n",
    "    Multi-processing version of repeated cranberry passing simulation.\n",
    "    \n",
    "    Inputs:\n",
    "      n_guests - number of guests at the table\n",
    "      n_simulations - number of runs to simulate\n",
    "      n_cores - number of multiprocessing threads to use \n",
    "      seed - random number generator seed, if none is provided, sets it randomly\n",
    "    '''\n",
    "    \n",
    "    # produce a default seed if none ins provided\n",
    "    if seed is None:\n",
    "        seed = int(time.time())\n",
    "    \n",
    "    # set up rng to run in parallel reproducibly if seed was provided\n",
    "    ss = SeedSequence(seed)\n",
    "    child_seeds = ss.spawn(n_cores)\n",
    "    streams = [default_rng(s) for s in child_seeds]\n",
    "    \n",
    "    # simulations per core\n",
    "    n_sim_per_core = [n_simulations // n_cores for i in range(n_cores)]\n",
    "    n_sim_per_core[0] = n_sim_per_core[0] + (n_simulations % n_cores)\n",
    "    \n",
    "    # perform the simulations on each core\n",
    "    with mp.Pool(n_cores) as p:\n",
    "        sim_rslts = p.map(\n",
    "            lambda x: repeat_cranberry_passing_simulation(n_guests = n_guests, \n",
    "                                                          n_simulations = x[0], \n",
    "                                                          rng = x[1]), \n",
    "            zip(n_sim_per_core, streams)\n",
    "        )\n",
    "        \n",
    "    # union all the result dataframes together\n",
    "    sim_rslts = (pd.concat(sim_rslts, axis='rows')\n",
    "                 .reset_index()\n",
    "                 .drop(columns = ['index']))\n",
    "            \n",
    "    return sim_rslts"
   ]
  },
  {
   "cell_type": "code",
   "execution_count": 5,
   "metadata": {},
   "outputs": [
    {
     "name": "stdout",
     "output_type": "stream",
     "text": [
      "CPU times: user 65.6 ms, sys: 65.1 ms, total: 131 ms\n",
      "Wall time: 1min\n"
     ]
    }
   ],
   "source": [
    "%%time\n",
    "n_guests = 20\n",
    "sim_rslts = repeat_cranberry_passing_simulation_mp(n_guests=n_guests, \n",
    "                                                   n_simulations = int(1e6), \n",
    "                                                   n_cores = 16, \n",
    "                                                   seed = 12345)"
   ]
  },
  {
   "cell_type": "code",
   "execution_count": 6,
   "metadata": {},
   "outputs": [
    {
     "data": {
      "text/plain": [
       "Text(0.5, 0, 'k')"
      ]
     },
     "execution_count": 6,
     "metadata": {},
     "output_type": "execute_result"
    },
    {
     "data": {
      "image/png": "[encoded data removed]",
      "text/plain": [
       "<Figure size 432x288 with 1 Axes>"
      ]
     },
     "metadata": {},
     "output_type": "display_data"
    }
   ],
   "source": [
    "fig, ax = plt.subplots(facecolor='white')\n",
    "g = sns.countplot(data = sim_rslts, x='received_last', color = 'C0', ax=ax)\n",
    "g.set_title('Frequency Guest k Receives Cranberry Sauce Last')\n",
    "g.set_xlabel('k')"
   ]
  },
  {
   "cell_type": "code",
   "execution_count": 7,
   "metadata": {},
   "outputs": [
    {
     "data": {
      "text/plain": [
       "array([    0, 52720, 52447, 52355, 52848, 52356, 52519, 52835, 52785,\n",
       "       52687, 52729, 52747, 52957, 52916, 52486, 52538, 52442, 52388,\n",
       "       52335, 52910])"
      ]
     },
     "execution_count": 7,
     "metadata": {},
     "output_type": "execute_result"
    }
   ],
   "source": [
    "counts, bins = np.histogram(sim_rslts.received_last, bins=np.arange(n_guests + 1))\n",
    "counts"
   ]
  },
  {
   "cell_type": "code",
   "execution_count": 8,
   "metadata": {},
   "outputs": [
    {
     "data": {
      "text/plain": [
       "<matplotlib.axes._subplots.AxesSubplot at 0x7f06a5abc650>"
      ]
     },
     "execution_count": 8,
     "metadata": {},
     "output_type": "execute_result"
    },
    {
     "data": {
      "image/png": "[encoded data removed]",
      "text/plain": [
       "<Figure size 432x288 with 1 Axes>"
      ]
     },
     "metadata": {},
     "output_type": "display_data"
    }
   ],
   "source": [
    "fig, ax = plt.subplots(facecolor='white')\n",
    "sns.histplot(data = sim_rslts, x='n_passes', stat = 'density', discrete = True, ax=ax)"
   ]
  },
  {
   "cell_type": "code",
   "execution_count": 9,
   "metadata": {},
   "outputs": [
    {
     "data": {
      "text/plain": [
       "received_last     10.000034\n",
       "n_passes         189.848918\n",
       "dtype: float64"
      ]
     },
     "execution_count": 9,
     "metadata": {},
     "output_type": "execute_result"
    }
   ],
   "source": [
    "sim_rslts.mean()"
   ]
  },
  {
   "cell_type": "code",
   "execution_count": 10,
   "metadata": {},
   "outputs": [
    {
     "data": {
      "text/plain": [
       "<matplotlib.axes._subplots.AxesSubplot at 0x7f06a4a1bad0>"
      ]
     },
     "execution_count": 10,
     "metadata": {},
     "output_type": "execute_result"
    },
    {
     "data": {
      "image/png": "[encoded data removed]",
      "text/plain": [
       "<Figure size 432x288 with 1 Axes>"
      ]
     },
     "metadata": {},
     "output_type": "display_data"
    }
   ],
   "source": [
    "fig, ax = plt.subplots(facecolor='white')\n",
    "sim_rslts.groupby('received_last').mean().plot(ax=ax)"
   ]
  }
 ],
 "metadata": {
  "kernelspec": {
   "display_name": "base",
   "language": "python",
   "name": "base"
  },
  "language_info": {
   "codemirror_mode": {
    "name": "ipython",
    "version": 3
   },
   "file_extension": ".py",
   "mimetype": "text/x-python",
   "name": "python",
   "nbconvert_exporter": "python",
   "pygments_lexer": "ipython3",
   "version": "3.7.7"
  }
 },
 "nbformat": 4,
 "nbformat_minor": 4
}
