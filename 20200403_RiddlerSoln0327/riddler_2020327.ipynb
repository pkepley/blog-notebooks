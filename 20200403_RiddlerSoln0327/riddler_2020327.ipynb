{
 "cells": [
  {
   "cell_type": "markdown",
   "metadata": {},
   "source": [
    "## Prompt\n",
    "\n",
    "In this notebook, I explore an \"exact\" and simulation approach to solving the [538 Riddler from March 27th](https://fivethirtyeight.com/features/can-you-get-the-gloves-out-of-the-box/)\n",
    "\n",
    ">You start with a fair 6-sided die and roll it six times, recording the results of each roll. You then write these numbers on the six faces of another, unlabeled fair die. For example, if your six rolls were 3, 5, 3, 6, 1 and 2, then your second die wouldn’t have a 4 on it; instead, it would have two 3s.\n",
    ">\n",
    ">Next, you roll this second die six times. You take those six numbers and write them on the faces of yet another fair die, and you continue this process of generating a new die from the previous one.\n",
    ">\n",
    ">Eventually, you’ll have a die with the same number on all six faces. What is the average number of rolls it will take to reach this state?\n",
    ">\n",
    ">Extra credit: Instead of a standard 6-sided die, suppose you have an N-sided die, whose sides are numbered from 1 to N. What is the average number of rolls it would take until all N sides show the same number?"
   ]
  },
  {
   "cell_type": "code",
   "execution_count": 1,
   "metadata": {},
   "outputs": [],
   "source": [
    "import matplotlib.pyplot as plt\n",
    "import numpy as np\n",
    "from collections import Counter\n",
    "from itertools import product\n",
    "from copy import deepcopy\n",
    "import pandas as pd\n",
    "\n",
    "import pathos.multiprocessing as mp"
   ]
  },
  {
   "cell_type": "markdown",
   "metadata": {},
   "source": [
    "## Exact Solution\n",
    "\n",
    "Idea: the rolling process is a Markov process with an absorbing state, in which the sides are all identical. As such, we can find the mean-time to all identical sides by finding the average time to absorprtion for the Markov process.\n",
    "\n",
    "To do this, we first need to specify the states of this Markov process and determine its transition probabilities.\n",
    "\n",
    "I was a bit lazy this week, so I use a very wasteful method to compute the transition probabilities by direct counting."
   ]
  },
  {
   "cell_type": "code",
   "execution_count": 2,
   "metadata": {},
   "outputs": [],
   "source": [
    "def generate_sample_space(labels, n_sides = 6):    \n",
    "    # Generate a cartesian product of the labels\n",
    "    label_product = [labels for i in range(n_sides)]\n",
    "    \n",
    "    # Generate the entire sample space\n",
    "    sample_space = []    \n",
    "    for e in product(*label_product):\n",
    "        sample_space.append(sorted(e))\n",
    "        \n",
    "    # \n",
    "    side_reps = [[e.count(i) for i in range(1, n_sides+1)] for e in sample_space]\n",
    "    side_reps_type = [sorted(r, reverse=True) for r in side_reps]\n",
    "    side_reps_type = [''.join(map(str, e)) for e in side_reps_type]\n",
    "    \n",
    "    counts = Counter(side_reps_type)\n",
    "    \n",
    "    return sample_space, side_reps, side_reps_type, counts"
   ]
  },
  {
   "cell_type": "code",
   "execution_count": 3,
   "metadata": {},
   "outputs": [],
   "source": [
    "def transition_matrix(n_sides):\n",
    "    s = list(range(1,n_sides+1))\n",
    "    s_result, s_reps, s_reps_type, cs = generate_sample_space(s, n_sides)\n",
    "    s_types = sorted(list(cs.keys()))\n",
    "    n_types = len(s_types) - 1\n",
    "    \n",
    "    counts = dict()\n",
    "\n",
    "    for s_type in s_types:\n",
    "        s2 = s_result[s_reps_type.index(s_type)]\n",
    "        _, _, _, cs =  generate_sample_space(s2, n_sides)\n",
    "        counts[s_type] = deepcopy(cs)\n",
    "    \n",
    "    n_types = len(s_types)\n",
    "    p = np.zeros((n_types, n_types), dtype='float')\n",
    "\n",
    "    for i, s_type_i in enumerate(s_types):\n",
    "        for j, s_type_j in enumerate(s_types):\n",
    "            p[i,j] = counts[s_type_i][s_type_j] / float(n_sides**n_sides)\n",
    "    \n",
    "    return p, n_types, s_types\n",
    "        "
   ]
  },
  {
   "cell_type": "markdown",
   "metadata": {},
   "source": [
    "Solve the problem for 2 - 6 sided dies."
   ]
  },
  {
   "cell_type": "code",
   "execution_count": 4,
   "metadata": {},
   "outputs": [],
   "source": [
    "ps = dict()\n",
    "mus = dict()\n",
    "average_relabelings_exact = dict()\n",
    "states = dict()\n",
    "\n",
    "for n_sides in range(2,7):\n",
    "    # Generate the transition matrices\n",
    "    p, n_types, s_types = transition_matrix(n_sides)\n",
    "       \n",
    "    # Solve for the mean time to absorption (mu)\n",
    "    R = p[:-1,:-1]\n",
    "    mu = np.linalg.solve(np.eye(n_types - 1, n_types - 1) - R, np.ones((n_types - 1,1)))\n",
    "    \n",
    "    # Append result to dict\n",
    "    ps[n_sides] = deepcopy(p)\n",
    "    mus[n_sides] = deepcopy(mu)\n",
    "    average_relabelings_exact[n_sides] = mus[n_sides][0].item()\n",
    "    states[n_sides] = deepcopy(s_types)"
   ]
  },
  {
   "cell_type": "markdown",
   "metadata": {},
   "source": [
    "Plot the transition matrices for 2 - 6 sided dies."
   ]
  },
  {
   "cell_type": "code",
   "execution_count": 5,
   "metadata": {},
   "outputs": [
    {
     "data": {
      "image/png": "[encoded data removed]",
      "text/plain": [
       "<Figure size 1008x468 with 6 Axes>"
      ]
     },
     "metadata": {
      "needs_background": "light"
     },
     "output_type": "display_data"
    }
   ],
   "source": [
    "fig, axs = plt.subplots(2, 3, figsize=(14,6.5))\n",
    "\n",
    "for n_sides in range(2,7):\n",
    "    i, j = (n_sides - 2) // 3, (n_sides-2) % 3\n",
    "    im = axs[i][j].imshow(ps[n_sides], cmap='Blues')\n",
    "    \n",
    "    axs[i][j].set_xticks(np.arange(len(states[n_sides])))\n",
    "    axs[i][j].set_xticklabels(states[n_sides], rotation=90)\n",
    "\n",
    "    axs[i][j].set_yticks(np.arange(len(states[n_sides])))\n",
    "    axs[i][j].set_yticklabels(states[n_sides], rotation=0)\n",
    "\n",
    "fig.delaxes(axs[1, 2])\n",
    "fig.colorbar(im, ax=axs.ravel().tolist())\n",
    "plt.show()\n"
   ]
  },
  {
   "cell_type": "markdown",
   "metadata": {},
   "source": [
    "## Simulation \n",
    "Here I just simulate the process and see how long it took on average. "
   ]
  },
  {
   "cell_type": "code",
   "execution_count": 6,
   "metadata": {},
   "outputs": [],
   "source": [
    "# https://stackoverflow.com/questions/3844801/check-if-all-elements-in-a-list-are-identical\n",
    "def check_equal(iterator):\n",
    "    iterator = iter(iterator)\n",
    "    try:\n",
    "        first = next(iterator)\n",
    "    except StopIteration:\n",
    "        return True\n",
    "    return all(first == rest for rest in iterator)\n",
    "\n",
    "def roll_until_same_face(n_sides):    \n",
    "    n_relabelings = 0\n",
    "    faces = np.arange(1, n_sides+1)\n",
    "    \n",
    "    while not check_equal(faces):        \n",
    "        n_relabelings += 1\n",
    "        faces = np.random.choice(faces, size = n_sides, replace=True)\n",
    "    \n",
    "    return n_relabelings\n",
    "\n",
    "def repeat_roll_until_same_face(n_sides, n_repetitions, n_processors=1):\n",
    "    n_relabelings = np.zeros(n_repetitions)\n",
    "\n",
    "    with mp.Pool(n_processors) as p:        \n",
    "        n_relabelings = p.map(lambda x: roll_until_same_face(n_sides), \n",
    "                              np.arange(n_repetitions))\n",
    "    \n",
    "    return n_relabelings"
   ]
  },
  {
   "cell_type": "code",
   "execution_count": 7,
   "metadata": {},
   "outputs": [],
   "source": [
    "n_repetitions = 100000\n",
    "\n",
    "simulated_relabelings = dict()\n",
    "average_relabelings_simulated = dict()\n",
    "\n",
    "for n_sides in range(2, 7):\n",
    "    n_relabelings = repeat_roll_until_same_face(n_sides, n_repetitions, \n",
    "                                                n_processors=4)\n",
    "    simulated_relabelings[n_sides] = deepcopy(n_relabelings)\n",
    "    average_relabelings_simulated[n_sides] = np.mean(n_relabelings)"
   ]
  },
  {
   "cell_type": "markdown",
   "metadata": {},
   "source": [
    "## Final Results"
   ]
  },
  {
   "cell_type": "code",
   "execution_count": 10,
   "metadata": {},
   "outputs": [
    {
     "data": {
      "image/png": "[encoded data removed]",
      "text/plain": [
       "<Figure size 432x288 with 1 Axes>"
      ]
     },
     "metadata": {
      "needs_background": "light"
     },
     "output_type": "display_data"
    }
   ],
   "source": [
    "plt.plot(list(average_relabelings_exact.keys()),\n",
    "         list(average_relabelings_exact.values()), \n",
    "         marker='.',\n",
    "        label='Exact')\n",
    "plt.plot(list(average_relabelings_simulated.keys()),\n",
    "         list(average_relabelings_simulated.values()), \n",
    "         marker='.', \n",
    "         label = \"Simulated\")\n",
    "plt.legend()\n",
    "plt.show()"
   ]
  },
  {
   "cell_type": "code",
   "execution_count": 9,
   "metadata": {},
   "outputs": [
    {
     "data": {
      "text/html": [
       "<div>\n",
       "<style scoped>\n",
       "    .dataframe tbody tr th:only-of-type {\n",
       "        vertical-align: middle;\n",
       "    }\n",
       "\n",
       "    .dataframe tbody tr th {\n",
       "        vertical-align: top;\n",
       "    }\n",
       "\n",
       "    .dataframe thead th {\n",
       "        text-align: right;\n",
       "    }\n",
       "</style>\n",
       "<table border=\"1\" class=\"dataframe\">\n",
       "  <thead>\n",
       "    <tr style=\"text-align: right;\">\n",
       "      <th></th>\n",
       "      <th>Simulated</th>\n",
       "      <th>Exact</th>\n",
       "    </tr>\n",
       "    <tr>\n",
       "      <th>n_sides</th>\n",
       "      <th></th>\n",
       "      <th></th>\n",
       "    </tr>\n",
       "  </thead>\n",
       "  <tbody>\n",
       "    <tr>\n",
       "      <th>2</th>\n",
       "      <td>1.99024</td>\n",
       "      <td>2.000000</td>\n",
       "    </tr>\n",
       "    <tr>\n",
       "      <th>3</th>\n",
       "      <td>3.84404</td>\n",
       "      <td>3.857143</td>\n",
       "    </tr>\n",
       "    <tr>\n",
       "      <th>4</th>\n",
       "      <td>5.80128</td>\n",
       "      <td>5.779310</td>\n",
       "    </tr>\n",
       "    <tr>\n",
       "      <th>5</th>\n",
       "      <td>7.66424</td>\n",
       "      <td>7.711982</td>\n",
       "    </tr>\n",
       "    <tr>\n",
       "      <th>6</th>\n",
       "      <td>9.69884</td>\n",
       "      <td>9.655991</td>\n",
       "    </tr>\n",
       "  </tbody>\n",
       "</table>\n",
       "</div>"
      ],
      "text/plain": [
       "         Simulated     Exact\n",
       "n_sides                     \n",
       "2          1.99024  2.000000\n",
       "3          3.84404  3.857143\n",
       "4          5.80128  5.779310\n",
       "5          7.66424  7.711982\n",
       "6          9.69884  9.655991"
      ]
     },
     "execution_count": 9,
     "metadata": {},
     "output_type": "execute_result"
    }
   ],
   "source": [
    "pd.DataFrame({\n",
    "    'n_sides' : list(average_relabelings_exact.keys()),\n",
    "    'Simulated' : list(average_relabelings_simulated.values()),\n",
    "    'Exact' : list(average_relabelings_exact.values())}\n",
    ").set_index('n_sides')"
   ]
  }
 ],
 "metadata": {
  "kernelspec": {
   "display_name": "Python 3",
   "language": "python",
   "name": "python3"
  },
  "language_info": {
   "codemirror_mode": {
    "name": "ipython",
    "version": 3
   },
   "file_extension": ".py",
   "mimetype": "text/x-python",
   "name": "python",
   "nbconvert_exporter": "python",
   "pygments_lexer": "ipython3",
   "version": "3.7.6"
  }
 },
 "nbformat": 4,
 "nbformat_minor": 4
}
