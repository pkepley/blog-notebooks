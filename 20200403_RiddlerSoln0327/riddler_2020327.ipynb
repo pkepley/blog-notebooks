{
 "cells": [
  {
   "cell_type": "markdown",
   "metadata": {},
   "source": [
    "## Prompt\n",
    "\n",
    "In this notebook, I explore an \"exact\" and simulation approach to solving the [538 Riddler from March 27th](https://fivethirtyeight.com/features/can-you-get-the-gloves-out-of-the-box/)\n",
    "\n",
    ">You start with a fair 6-sided die and roll it six times, recording the results of each roll. You then write these numbers on the six faces of another, unlabeled fair die. For example, if your six rolls were 3, 5, 3, 6, 1 and 2, then your second die wouldn’t have a 4 on it; instead, it would have two 3s.\n",
    ">\n",
    ">Next, you roll this second die six times. You take those six numbers and write them on the faces of yet another fair die, and you continue this process of generating a new die from the previous one.\n",
    ">\n",
    ">Eventually, you’ll have a die with the same number on all six faces. What is the average number of rolls it will take to reach this state?\n",
    ">\n",
    ">Extra credit: Instead of a standard 6-sided die, suppose you have an N-sided die, whose sides are numbered from 1 to N. What is the average number of rolls it would take until all N sides show the same number?"
   ]
  },
  {
   "cell_type": "code",
   "execution_count": 1,
   "metadata": {},
   "outputs": [],
   "source": [
    "import matplotlib.pyplot as plt\n",
    "import numpy as np\n",
    "from scipy.stats import multinomial\n",
    "from scipy.special import binom\n",
    "from collections import Counter\n",
    "from itertools import product, permutations\n",
    "from copy import deepcopy\n",
    "import pandas as pd\n",
    "\n",
    "import pathos.multiprocessing as mp"
   ]
  },
  {
   "cell_type": "markdown",
   "metadata": {},
   "source": [
    "## Exact Solution\n",
    "\n",
    "Idea: the rolling process is a Markov process with an absorbing state, in which the sides are all identical. As such, we can find the mean-time to all identical sides by finding the average time to absorprtion for the Markov process.\n",
    "\n",
    "To do this, we first need to specify the states of this Markov process and determine its transition probabilities.\n",
    "\n",
    "I was a bit lazy this week, so I use a very wasteful method to compute the transition probabilities by direct counting."
   ]
  },
  {
   "cell_type": "code",
   "execution_count": 2,
   "metadata": {},
   "outputs": [],
   "source": [
    "def distinct_permutations(s_type):    \n",
    "    n_distinct = len(s_type)\n",
    "    return list(set(permutations(s_type, r = len(s_type))))"
   ]
  },
  {
   "cell_type": "code",
   "execution_count": 3,
   "metadata": {},
   "outputs": [],
   "source": [
    "# http://jeromekelleher.net/generating-integer-partitions.html\n",
    "def rule_asc(n):\n",
    "    a = [0 for i in range(n + 1)]\n",
    "    k = 1\n",
    "    a[1] = n\n",
    "    while k != 0:\n",
    "        x = a[k - 1] + 1\n",
    "        y = a[k] - 1\n",
    "        k -= 1\n",
    "        while x <= y:\n",
    "            a[k] = x\n",
    "            y -= x\n",
    "            k += 1\n",
    "        a[k] = x + y\n",
    "        yield a[:k + 1]\n",
    "\n",
    "def ascending_partitions(n):\n",
    "    return list(rule_asc(n))\n",
    "\n",
    "def descending_partitions(n):\n",
    "    return list(map(lambda s: list(reversed(s)), ascending_partitions(n)))"
   ]
  },
  {
   "cell_type": "code",
   "execution_count": 4,
   "metadata": {},
   "outputs": [],
   "source": [
    "def transition_prob(i_type, j_type, n_sides):\n",
    "    qi = (1.0 / n_sides) * np.array(i_type)\n",
    "    \n",
    "    if len(j_type) < len(i_type):\n",
    "        n_pad = len(i_type) - len(j_type)\n",
    "        j_type = j_type + [0]*n_pad\n",
    "    \n",
    "    p_ij = 0\n",
    "    for e in distinct_permutations(j_type):\n",
    "        p_ij += multinomial.pmf(e, n =n_sides, p = qi)\n",
    "    \n",
    "    return p_ij\n",
    "\n",
    "def transition_matrix(n_sides):\n",
    "    s_types = descending_partitions(n_sides)\n",
    "    n_types = len(s_types)\n",
    "    \n",
    "    p = np.zeros((n_types, n_types))\n",
    "    \n",
    "    for i in range(n_types):\n",
    "        i_type = s_types[i]\n",
    "        \n",
    "        for j in range(n_types):\n",
    "            j_type = s_types[j]\n",
    "\n",
    "            if len(j_type) <= len(i_type):\n",
    "                p[i, j] = transition_prob(i_type, j_type, n_sides)\n",
    "                \n",
    "    return p, n_types, [''.join([str(k) for k in s]) for s in s_types]"
   ]
  },
  {
   "cell_type": "markdown",
   "metadata": {},
   "source": [
    "Solve the problem for 2 - 10 sided dies."
   ]
  },
  {
   "cell_type": "code",
   "execution_count": 5,
   "metadata": {},
   "outputs": [],
   "source": [
    "ps = dict()\n",
    "mus = dict()\n",
    "average_relabelings_exact = dict()\n",
    "states = dict()\n",
    "\n",
    "for n_sides in range(2,10+1):\n",
    "    # Generate the transition matrices\n",
    "    p, n_types, s_types = transition_matrix(n_sides)\n",
    "       \n",
    "    # Solve for the mean time to absorption (mu)\n",
    "    R = p[:-1,:-1]\n",
    "    mu = np.linalg.solve(np.eye(n_types - 1, n_types - 1) - R, np.ones((n_types - 1,1)))\n",
    "    \n",
    "    # Append result to dict\n",
    "    ps[n_sides] = deepcopy(p)\n",
    "    mus[n_sides] = deepcopy(mu)\n",
    "    average_relabelings_exact[n_sides] = mus[n_sides][0].item()\n",
    "    states[n_sides] = deepcopy(s_types)"
   ]
  },
  {
   "cell_type": "markdown",
   "metadata": {},
   "source": [
    "Plot the transition matrices for 2 - 6 sided dice."
   ]
  },
  {
   "cell_type": "code",
   "execution_count": 6,
   "metadata": {},
   "outputs": [
    {
     "data": {
      "image/png": "[encoded data removed]",
      "text/plain": [
       "<Figure size 1008x468 with 6 Axes>"
      ]
     },
     "metadata": {
      "needs_background": "light"
     },
     "output_type": "display_data"
    }
   ],
   "source": [
    "fig, axs = plt.subplots(2, 3, figsize=(14,6.5))\n",
    "\n",
    "for n_sides in range(2,6+1):\n",
    "    i, j = (n_sides - 2) // 3, (n_sides-2) % 3\n",
    "    im = axs[i][j].imshow(ps[n_sides], cmap='Blues')\n",
    "    \n",
    "    axs[i][j].set_xticks(np.arange(len(states[n_sides])))\n",
    "    axs[i][j].set_xticklabels(states[n_sides], rotation=90)\n",
    "\n",
    "    axs[i][j].set_yticks(np.arange(len(states[n_sides])))\n",
    "    axs[i][j].set_yticklabels(states[n_sides], rotation=0)\n",
    "\n",
    "fig.delaxes(axs[1, 2])\n",
    "fig.colorbar(im, ax=axs.ravel().tolist())\n",
    "plt.show()\n"
   ]
  },
  {
   "cell_type": "markdown",
   "metadata": {},
   "source": [
    "## Simulation \n",
    "Here I just simulate the process and see how long it took on average. "
   ]
  },
  {
   "cell_type": "code",
   "execution_count": 7,
   "metadata": {},
   "outputs": [],
   "source": [
    "# https://stackoverflow.com/questions/3844801/check-if-all-elements-in-a-list-are-identical\n",
    "def check_equal(iterator):\n",
    "    iterator = iter(iterator)\n",
    "    try:\n",
    "        first = next(iterator)\n",
    "    except StopIteration:\n",
    "        return True\n",
    "    return all(first == rest for rest in iterator)\n",
    "\n",
    "def roll_until_same_face(n_sides):    \n",
    "    n_relabelings = 0\n",
    "    faces = np.arange(1, n_sides+1)\n",
    "    \n",
    "    while not check_equal(faces):        \n",
    "        n_relabelings += 1\n",
    "        faces = np.random.choice(faces, size = n_sides, replace=True)\n",
    "    \n",
    "    return n_relabelings\n",
    "\n",
    "def repeat_roll_until_same_face(n_sides, n_repetitions, n_processors=1):\n",
    "    n_relabelings = np.zeros(n_repetitions)\n",
    "\n",
    "    with mp.Pool(n_processors) as p:        \n",
    "        n_relabelings = p.map(lambda x: roll_until_same_face(n_sides), \n",
    "                              np.arange(n_repetitions))\n",
    "    \n",
    "    return n_relabelings"
   ]
  },
  {
   "cell_type": "code",
   "execution_count": 8,
   "metadata": {},
   "outputs": [],
   "source": [
    "n_repetitions = 100000\n",
    "\n",
    "simulated_relabelings = dict()\n",
    "average_relabelings_simulated = dict()\n",
    "\n",
    "for n_sides in range(2, 10+1):\n",
    "    n_relabelings = repeat_roll_until_same_face(n_sides, n_repetitions, \n",
    "                                                n_processors=4)\n",
    "    simulated_relabelings[n_sides] = deepcopy(n_relabelings)\n",
    "    average_relabelings_simulated[n_sides] = np.mean(n_relabelings)"
   ]
  },
  {
   "cell_type": "markdown",
   "metadata": {},
   "source": [
    "## Final Results"
   ]
  },
  {
   "cell_type": "code",
   "execution_count": 9,
   "metadata": {},
   "outputs": [
    {
     "data": {
      "image/png": "[encoded data removed]",
      "text/plain": [
       "<Figure size 432x288 with 1 Axes>"
      ]
     },
     "metadata": {
      "needs_background": "light"
     },
     "output_type": "display_data"
    }
   ],
   "source": [
    "plt.plot(list(average_relabelings_exact.keys()),\n",
    "         list(average_relabelings_exact.values()), \n",
    "         marker='.',\n",
    "        label='Exact')\n",
    "plt.plot(list(average_relabelings_simulated.keys()),\n",
    "         list(average_relabelings_simulated.values()), \n",
    "         marker='.', \n",
    "         label = \"Simulated\")\n",
    "plt.legend()\n",
    "plt.show()"
   ]
  },
  {
   "cell_type": "code",
   "execution_count": 10,
   "metadata": {},
   "outputs": [
    {
     "data": {
      "text/html": [
       "<style  type=\"text/css\" >\n",
       "</style><table id=\"T_015c7c66_7621_11ea_8608_cb7f14e23b23\" ><thead>    <tr>        <th class=\"col_heading level0 col0\" >Number of Sides</th>        <th class=\"col_heading level0 col1\" >Simulated</th>        <th class=\"col_heading level0 col2\" >Exact</th>    </tr></thead><tbody>\n",
       "                <tr>\n",
       "                                <td id=\"T_015c7c66_7621_11ea_8608_cb7f14e23b23row0_col0\" class=\"data row0 col0\" >2</td>\n",
       "                        <td id=\"T_015c7c66_7621_11ea_8608_cb7f14e23b23row0_col1\" class=\"data row0 col1\" >1.995640</td>\n",
       "                        <td id=\"T_015c7c66_7621_11ea_8608_cb7f14e23b23row0_col2\" class=\"data row0 col2\" >2.000000</td>\n",
       "            </tr>\n",
       "            <tr>\n",
       "                                <td id=\"T_015c7c66_7621_11ea_8608_cb7f14e23b23row1_col0\" class=\"data row1 col0\" >3</td>\n",
       "                        <td id=\"T_015c7c66_7621_11ea_8608_cb7f14e23b23row1_col1\" class=\"data row1 col1\" >3.890320</td>\n",
       "                        <td id=\"T_015c7c66_7621_11ea_8608_cb7f14e23b23row1_col2\" class=\"data row1 col2\" >3.857143</td>\n",
       "            </tr>\n",
       "            <tr>\n",
       "                                <td id=\"T_015c7c66_7621_11ea_8608_cb7f14e23b23row2_col0\" class=\"data row2 col0\" >4</td>\n",
       "                        <td id=\"T_015c7c66_7621_11ea_8608_cb7f14e23b23row2_col1\" class=\"data row2 col1\" >5.763960</td>\n",
       "                        <td id=\"T_015c7c66_7621_11ea_8608_cb7f14e23b23row2_col2\" class=\"data row2 col2\" >5.779310</td>\n",
       "            </tr>\n",
       "            <tr>\n",
       "                                <td id=\"T_015c7c66_7621_11ea_8608_cb7f14e23b23row3_col0\" class=\"data row3 col0\" >5</td>\n",
       "                        <td id=\"T_015c7c66_7621_11ea_8608_cb7f14e23b23row3_col1\" class=\"data row3 col1\" >7.730800</td>\n",
       "                        <td id=\"T_015c7c66_7621_11ea_8608_cb7f14e23b23row3_col2\" class=\"data row3 col2\" >7.711982</td>\n",
       "            </tr>\n",
       "            <tr>\n",
       "                                <td id=\"T_015c7c66_7621_11ea_8608_cb7f14e23b23row4_col0\" class=\"data row4 col0\" >6</td>\n",
       "                        <td id=\"T_015c7c66_7621_11ea_8608_cb7f14e23b23row4_col1\" class=\"data row4 col1\" >9.653640</td>\n",
       "                        <td id=\"T_015c7c66_7621_11ea_8608_cb7f14e23b23row4_col2\" class=\"data row4 col2\" >9.655991</td>\n",
       "            </tr>\n",
       "            <tr>\n",
       "                                <td id=\"T_015c7c66_7621_11ea_8608_cb7f14e23b23row5_col0\" class=\"data row5 col0\" >7</td>\n",
       "                        <td id=\"T_015c7c66_7621_11ea_8608_cb7f14e23b23row5_col1\" class=\"data row5 col1\" >11.600080</td>\n",
       "                        <td id=\"T_015c7c66_7621_11ea_8608_cb7f14e23b23row5_col2\" class=\"data row5 col2\" >11.608147</td>\n",
       "            </tr>\n",
       "            <tr>\n",
       "                                <td id=\"T_015c7c66_7621_11ea_8608_cb7f14e23b23row6_col0\" class=\"data row6 col0\" >8</td>\n",
       "                        <td id=\"T_015c7c66_7621_11ea_8608_cb7f14e23b23row6_col1\" class=\"data row6 col1\" >13.579640</td>\n",
       "                        <td id=\"T_015c7c66_7621_11ea_8608_cb7f14e23b23row6_col2\" class=\"data row6 col2\" >13.566288</td>\n",
       "            </tr>\n",
       "            <tr>\n",
       "                                <td id=\"T_015c7c66_7621_11ea_8608_cb7f14e23b23row7_col0\" class=\"data row7 col0\" >9</td>\n",
       "                        <td id=\"T_015c7c66_7621_11ea_8608_cb7f14e23b23row7_col1\" class=\"data row7 col1\" >15.574320</td>\n",
       "                        <td id=\"T_015c7c66_7621_11ea_8608_cb7f14e23b23row7_col2\" class=\"data row7 col2\" >15.529088</td>\n",
       "            </tr>\n",
       "            <tr>\n",
       "                                <td id=\"T_015c7c66_7621_11ea_8608_cb7f14e23b23row8_col0\" class=\"data row8 col0\" >10</td>\n",
       "                        <td id=\"T_015c7c66_7621_11ea_8608_cb7f14e23b23row8_col1\" class=\"data row8 col1\" >17.471520</td>\n",
       "                        <td id=\"T_015c7c66_7621_11ea_8608_cb7f14e23b23row8_col2\" class=\"data row8 col2\" >17.495620</td>\n",
       "            </tr>\n",
       "    </tbody></table>"
      ],
      "text/plain": [
       "<pandas.io.formats.style.Styler at 0x7f6663492f50>"
      ]
     },
     "execution_count": 10,
     "metadata": {},
     "output_type": "execute_result"
    }
   ],
   "source": [
    "df = pd.DataFrame({\n",
    "    'Number of Sides' : list(average_relabelings_exact.keys()),\n",
    "    'Simulated' : list(average_relabelings_simulated.values()),\n",
    "    'Exact' : list(average_relabelings_exact.values())}\n",
    ")\n",
    "\n",
    "df.style.hide_index()"
   ]
  }
 ],
 "metadata": {
  "kernelspec": {
   "display_name": "Python 3",
   "language": "python",
   "name": "python3"
  },
  "language_info": {
   "codemirror_mode": {
    "name": "ipython",
    "version": 3
   },
   "file_extension": ".py",
   "mimetype": "text/x-python",
   "name": "python",
   "nbconvert_exporter": "python",
   "pygments_lexer": "ipython3",
   "version": "3.7.6"
  }
 },
 "nbformat": 4,
 "nbformat_minor": 4
}
