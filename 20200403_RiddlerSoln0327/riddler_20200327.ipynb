{
 "cells": [
  {
   "cell_type": "markdown",
   "metadata": {},
   "source": [
    "In this post, I explore a solution to FiveThirtyEight's [Riddler problem from March 27th](https://fivethirtyeight.com/features/can-you-get-the-gloves-out-of-the-box/). In this problem, we are asked to consider a process in which we repeatedly roll a fair die in batch rounds of size equal to the number of sides on the die. After each round, the die is relabeled using the outcomes of the batch's rolls. Eventually, all faces of the die will get the same label, and we're asked: on average, how many rolls will it take before the die's faces are all the same? \n",
    "\n",
    "Since the relabelling occurs after each round, instead of answering how many *rolls* this process will take, I focused on answering how many *rounds* the process will take. In this notebook, I provide an <a href=\"#exact_solution\" title=\"Jump to exact solution\">exact solution</a>, based on considering the process as a Markov chain. I also <a href=\"#simulated_solution\" title=\"Jump to simulation solution\">simulated the process </a> and <a href=\"#final_results\" title=\"Jump to final results\">compared the results</a> to the simulated results &mdash; mostly as a sanity check against my exact solution (: \n",
    "\n",
    "The notebook for this post may be found [here](https://github.com/pkepley/blog-notebooks/blob/master/20200403_RiddlerSoln0327/riddler_2020327.ipynb)."
   ]
  },
  {
   "cell_type": "markdown",
   "metadata": {},
   "source": [
    "## Prompt:\n",
    "\n",
    "For reference, here's a verbatim copy of the prompt that we will be working on (copied directly from [FiveThirtyEight's](https://fivethirtyeight.com/features/can-you-get-the-gloves-out-of-the-box/) site):\n",
    "\n",
    ">You start with a fair 6-sided die and roll it six times, recording the results of each roll. You then write these numbers on the six faces of another, unlabeled fair die. For example, if your six rolls were 3, 5, 3, 6, 1 and 2, then your second die wouldn’t have a 4 on it; instead, it would have two 3s.\n",
    ">\n",
    ">Next, you roll this second die six times. You take those six numbers and write them on the faces of yet another fair die, and you continue this process of generating a new die from the previous one.\n",
    ">\n",
    ">Eventually, you’ll have a die with the same number on all six faces. What is the average number of rolls it will take to reach this state?\n",
    ">\n",
    ">Extra credit: Instead of a standard 6-sided die, suppose you have an N-sided die, whose sides are numbered from 1 to N. What is the average number of rolls it would take until all N sides show the same number?"
   ]
  },
  {
   "cell_type": "markdown",
   "metadata": {},
   "source": [
    "## Exact Solution <a id=\"exact_solution\"></a>\n",
    "\n",
    "To begin, we'll introduce a concept that we will use to describe the states of the Markov chain which we will use to solve the prompt problem.\n",
    "\n",
    "**Definition:**  the *uniqueness type* of a finite set $S$ will be defined to be the descending ordered sequence of repetition counts for the distinct elements of $S$. I.e. let $S$ be a finite set with elements labeled $s_1,\\ldots,s_k$, that are repeated respectively $m_1,.\\ldots,m_k$ times in $S$ with $m1 \\geq m2\\geq \\ldots m_k$. Then  then the uniqueness type of $S$ is the list: $[m_1, \\ldots, m_k]$.\n",
    "\n",
    "**Examples:** consider a $6$-sided die with labels $S = \\{1,2,1,3,4,2\\}$. Then the uniqueness type of this die is $[2,2,1,1]$ (since $1$ and $2$ appear twice, while $3$ and $4$ both appear once). Likewise,  a $6$-sided die with labels $S = \\{1,2,3,2,1,1\\}$ would have uniqueness type $[3,2,1]$. A $6$-sided die with identical sides would have uniqueness type $[6]$.\n",
    "\n",
    "The rolling process can be considered as a Markov process whose states are the uniquness types of dice labels observed after each batch of rolls. The rationale for this, is that the number and occurence frequency of the labels on the die are the only important details required to assess the outcomes from the die. This Markov chain has an absorbing state (where all the sides are the same), which is given by the uniquness type $[n_{sides}]$, where $n_{sides}$ is the number of sides on the die. \n",
    "\n",
    "To obtain the mean time until the die has all equal sides, we simply need to find the mean time to absorption, when starting from a die with distinct sides. Denoting by $P$ the transition matrix for this Markov process, we can obtain the vector of mean absorption times $\\mu$ by solving $$(I - R)\\mu = \\mathbf{1}$$\n",
    "where $R$ is the submatrix of $P$ obtained by deleting rows and columns corresponding to absorbing states, and $\\mathbf{1}$ is a vector of $1$'s. The vector $\\mu$ gives the mean time to absorption from each state of the Markov process. Since we're only interested in the mean time to absorption from a die with distinct labels, we only need the entry in $\\mu$ corresponding to this state.\n",
    "\n",
    "So, we see that we will need to compute the transition matrix $P$, and then solve for the vector of mean absorption times."
   ]
  },
  {
   "cell_type": "markdown",
   "metadata": {},
   "source": [
    "### Computing the Transition Matrix \n",
    "\n",
    "Suppose that we have a die with labels $L_1, \\ldots, L_k$ which are repeated on its sides respectively $m_1, \\ldots m_k$ times, where $n_{sides} = m_1 +\\cdots+m_k$. Letting $p_l$ be the proportion of times that label $L_l$ appears on the die, i.e. $p_l  = \\frac{m_l}{n_{sides}}$ for $l = 1,\\ldots,k$, then the probability that we will observe $n_l$ occurences of label $L_l$ in $n_{sides}$ rolls can be calculated using the [multinomial distribution](https://en.wikipedia.org/wiki/Multinomial_distribution), and is given by:\n",
    "\n",
    "$$ P(n_1,\\ldots, n_l) = \\left(\\begin{array}{c}n_{sides}\\\\ n_1,\\ldots,n_l\\end{array} \\right) p_1^{n_1} \\cdots p_k^{n_k}$$\n",
    "\n",
    "\n",
    "We can use this observation to compute the transition probabilities of the Markov chain. To that end, denote the uniqueness type of the starting state by $i_{type} = [m_1,\\ldots, m_{k_i}]$ and the target state by $j_{type} = [n_1,\\ldots, n_{k_j}]$. Note that we must have $k_j \\leq k_i$, since the target state cannot have more sides than the starting state. For a representative element in the target uniqueness type equivalence class, the counts for the labels on the dice will be given given by $\\tilde{n}_l = n_l$ for $l \\leq k_i$ and $\\tilde{n}_{l} = 0$ for $l = k_j + 1, \\ldots k_i$. The probability of transitioning from the target state into any *particular* configuration can be obtained from the formula above. The probability of transitioning from the starting state into the target state is the sum over the probabilities of transitioning into each of the possible dice which have the target dice's uniqueness type, which is given as follows:\n",
    "\n",
    "$$ P(i_{type},~j_{type}) = \\sum_{\\sigma \\in \\Gamma} \\left(\\begin{array}{c}n_{sides}\\\\\\sigma(\\tilde{n}_{1}),\\ldots,\\sigma(\\tilde{n}_{k_i})\\end{array} \\right) p_1^{\\sigma(\\tilde{n}_{k_1})} \\cdots p_{k_i}^{\\sigma(\\tilde{n}_{k_i})}$$\n",
    "\n",
    "Here, as above, we have $p_l = \\frac{m_l}{n_{sides}}$ for $l = 1, \\ldots m_{k_i}$, and $\\Gamma$ is the set of all of the distinct permutations of the set $[\\tilde{n}_1,\\ldots,\\tilde{n}_{k_i}]$.\n"
   ]
  },
  {
   "cell_type": "code",
   "execution_count": 1,
   "metadata": {},
   "outputs": [],
   "source": [
    "import matplotlib.pyplot as plt\n",
    "import numpy as np\n",
    "from scipy.stats import multinomial\n",
    "from scipy.special import binom\n",
    "from collections import Counter\n",
    "from itertools import product, permutations\n",
    "from copy import deepcopy\n",
    "import pandas as pd\n",
    "\n",
    "import pathos.multiprocessing as mp"
   ]
  },
  {
   "cell_type": "markdown",
   "metadata": {},
   "source": [
    "#### Helper functions for listing Markov states\n",
    "The following functions are used to generate the uniqueness types for a die of side $n$."
   ]
  },
  {
   "cell_type": "code",
   "execution_count": 2,
   "metadata": {},
   "outputs": [],
   "source": [
    "# rule_asc: Used to generate ascending partitions of an integer\n",
    "# http://jeromekelleher.net/generating-integer-partitions.html\n",
    "def rule_asc(n):\n",
    "    a = [0 for i in range(n + 1)]\n",
    "    k = 1\n",
    "    a[1] = n\n",
    "    while k != 0:\n",
    "        x = a[k - 1] + 1\n",
    "        y = a[k] - 1\n",
    "        k -= 1\n",
    "        while x <= y:\n",
    "            a[k] = x\n",
    "            y -= x\n",
    "            k += 1\n",
    "        a[k] = x + y\n",
    "        yield a[:k + 1]\n",
    "\n",
    "# Ascending partitions of an integer:\n",
    "# e.g. 4: [[1, 1, 1, 1], [1, 1, 2], [1, 3], [2, 2], [4]]\n",
    "def ascending_partitions(n):\n",
    "    return list(rule_asc(n))\n",
    "\n",
    "# Descending partitions of an integer:\n",
    "# e.g. 4:  [[1, 1, 1, 1], [2, 1, 1], [3, 1], [2, 2], [4]]\n",
    "def descending_partitions(n):\n",
    "    return list(map(lambda s: list(reversed(s)), ascending_partitions(n)))"
   ]
  },
  {
   "cell_type": "markdown",
   "metadata": {},
   "source": [
    "As an example, here are the uniqueness types for a $6$-sided die: "
   ]
  },
  {
   "cell_type": "code",
   "execution_count": 3,
   "metadata": {},
   "outputs": [
    {
     "data": {
      "text/plain": [
       "[[1, 1, 1, 1, 1, 1],\n",
       " [2, 1, 1, 1, 1],\n",
       " [3, 1, 1, 1],\n",
       " [2, 2, 1, 1],\n",
       " [4, 1, 1],\n",
       " [3, 2, 1],\n",
       " [5, 1],\n",
       " [2, 2, 2],\n",
       " [4, 2],\n",
       " [3, 3],\n",
       " [6]]"
      ]
     },
     "execution_count": 3,
     "metadata": {},
     "output_type": "execute_result"
    }
   ],
   "source": [
    "descending_partitions(6)"
   ]
  },
  {
   "cell_type": "markdown",
   "metadata": {},
   "source": [
    "#### Helper function for calculting transition probabilities\n",
    "The following function is a helper function used to generate all of the unique permutations of a list with repetitions, which allow us to generate the set $\\Gamma$ described above."
   ]
  },
  {
   "cell_type": "code",
   "execution_count": 4,
   "metadata": {},
   "outputs": [],
   "source": [
    "# Get the list of distinct permutations of a list\n",
    "def distinct_permutations(s_type):    \n",
    "    n_distinct = len(s_type)\n",
    "    return list(set(permutations(s_type, r = len(s_type))))"
   ]
  },
  {
   "cell_type": "markdown",
   "metadata": {},
   "source": [
    "As an example, here are the unique permutations of the uniqueness type $[2,2,1,1]$"
   ]
  },
  {
   "cell_type": "code",
   "execution_count": 5,
   "metadata": {},
   "outputs": [
    {
     "data": {
      "text/plain": [
       "[(1, 2, 1, 2),\n",
       " (1, 2, 2, 1),\n",
       " (2, 2, 1, 1),\n",
       " (2, 1, 1, 2),\n",
       " (2, 1, 2, 1),\n",
       " (1, 1, 2, 2)]"
      ]
     },
     "execution_count": 5,
     "metadata": {},
     "output_type": "execute_result"
    }
   ],
   "source": [
    "distinct_permutations([2, 2, 1, 1])"
   ]
  },
  {
   "cell_type": "markdown",
   "metadata": {},
   "source": [
    "We're now in a position to compute the transition probability martix $P$."
   ]
  },
  {
   "cell_type": "code",
   "execution_count": 6,
   "metadata": {},
   "outputs": [],
   "source": [
    "def transition_prob(i_type, j_type, n_sides):\n",
    "    qi = (1.0 / n_sides) * np.array(i_type)\n",
    "    \n",
    "    if len(j_type) < len(i_type):\n",
    "        n_pad = len(i_type) - len(j_type)\n",
    "        j_type = j_type + [0]*n_pad\n",
    "    \n",
    "    p_ij = 0\n",
    "    for e in distinct_permutations(j_type):\n",
    "        p_ij += multinomial.pmf(e, n =n_sides, p = qi)\n",
    "    \n",
    "    return p_ij\n",
    "\n",
    "def transition_matrix(n_sides):\n",
    "    s_types = descending_partitions(n_sides)\n",
    "    n_types = len(s_types)\n",
    "    \n",
    "    p = np.zeros((n_types, n_types))\n",
    "    \n",
    "    for i in range(n_types):\n",
    "        i_type = s_types[i]\n",
    "        \n",
    "        for j in range(n_types):\n",
    "            j_type = s_types[j]\n",
    "\n",
    "            if len(j_type) <= len(i_type):\n",
    "                p[i, j] = transition_prob(i_type, j_type, n_sides)\n",
    "                \n",
    "    return p, n_types, [''.join([str(k) for k in s]) for s in s_types]"
   ]
  },
  {
   "cell_type": "markdown",
   "metadata": {},
   "source": [
    "Below we will plot the transition matrices for 2 &ndash; 6 sided die."
   ]
  },
  {
   "cell_type": "code",
   "execution_count": 7,
   "metadata": {},
   "outputs": [
    {
     "data": {
      "image/png": "[encoded data removed]",
      "text/plain": [
       "<Figure size 1224x648 with 6 Axes>"
      ]
     },
     "metadata": {
      "needs_background": "light"
     },
     "output_type": "display_data"
    }
   ],
   "source": [
    "fig, axs = plt.subplots(2, 3, figsize=(17,9))\n",
    "\n",
    "for n_sides in range(2, 6 + 1):\n",
    "    # Generate the transition matrices\n",
    "    p, n_types, s_types = transition_matrix(n_sides)\n",
    "    \n",
    "    # Columns and row of subplots\n",
    "    i, j = (n_sides - 2) // 3, (n_sides-2) % 3\n",
    "\n",
    "    # Set ax and plot the image on it\n",
    "    ax = axs[i][j]\n",
    "    im = ax.imshow(p, cmap='Blues')\n",
    "\n",
    "    # Minor ticks to add borders to squares\n",
    "    # https://stackoverflow.com/questions/38973868/adjusting-gridlines-and-ticks-in-matplotlib-imshow\n",
    "    ax.set_xticks(np.arange(-.5, n_types, 1), minor=True)\n",
    "    ax.set_yticks(np.arange(-.5, n_types, 1), minor=True)        \n",
    "    ax.grid(which='minor', color='k', linestyle='-', linewidth=1.5)\n",
    "    \n",
    "    # Title for subplot\n",
    "    ax.set_title('{}--sided Die'.format(n_sides))\n",
    "    \n",
    "    # X-labels\n",
    "    ax.set_xticks(np.arange(n_types))\n",
    "    ax.set_xticklabels(s_types, rotation=90)\n",
    "\n",
    "    # Y-labels\n",
    "    ax.set_yticks(np.arange(n_types))\n",
    "    ax.set_yticklabels(s_types, rotation=0)\n",
    "\n",
    "fig.delaxes(axs[1, 2])\n",
    "fig.colorbar(im, ax=axs.ravel().tolist())\n",
    "plt.show()\n"
   ]
  },
  {
   "cell_type": "markdown",
   "metadata": {},
   "source": [
    "### Computing the Exact Solution"
   ]
  },
  {
   "cell_type": "markdown",
   "metadata": {},
   "source": [
    "Here we will solve the problem for 2 &ndash; 10 sided dies."
   ]
  },
  {
   "cell_type": "code",
   "execution_count": 8,
   "metadata": {},
   "outputs": [],
   "source": [
    "ps = dict()\n",
    "mus = dict()\n",
    "average_relabelings_exact = dict()\n",
    "states = dict()\n",
    "\n",
    "for n_sides in range(2, 10 + 1):\n",
    "    # Generate the transition matrices\n",
    "    p, n_types, s_types = transition_matrix(n_sides)\n",
    "       \n",
    "    # Solve for the mean time to absorption (mu)\n",
    "    R = p[:-1,:-1]\n",
    "    mu = np.linalg.solve(np.eye(n_types - 1, n_types - 1) - R, np.ones((n_types - 1,1)))\n",
    "    \n",
    "    # Append result to dict\n",
    "    ps[n_sides] = deepcopy(p)\n",
    "    mus[n_sides] = deepcopy(mu)\n",
    "    average_relabelings_exact[n_sides] = mus[n_sides][0].item()\n",
    "    states[n_sides] = deepcopy(s_types)"
   ]
  },
  {
   "cell_type": "markdown",
   "metadata": {},
   "source": [
    "The results are displayed below in the <a href=\"#final_results\" title=\"Jump to final results\">Final Results section</a>."
   ]
  },
  {
   "cell_type": "markdown",
   "metadata": {},
   "source": [
    "## Simulation <a id=\"simulated_solution\"></a>\n",
    "\n",
    "In this section, we will simulate the relabeling process. The simulation is straightforward, so I won't provide too many details."
   ]
  },
  {
   "cell_type": "markdown",
   "metadata": {},
   "source": [
    "#### Helper function to check if sides are equal\n",
    "\n",
    "The following function will be used to check to if the sides of a die are all equal or not."
   ]
  },
  {
   "cell_type": "code",
   "execution_count": 9,
   "metadata": {},
   "outputs": [],
   "source": [
    "# https://stackoverflow.com/questions/3844801/check-if-all-elements-in-a-list-are-identical\n",
    "def check_equal(iterator):\n",
    "    iterator = iter(iterator)\n",
    "    try:\n",
    "        first = next(iterator)\n",
    "    except StopIteration:\n",
    "        return True\n",
    "    return all(first == rest for rest in iterator)"
   ]
  },
  {
   "cell_type": "markdown",
   "metadata": {},
   "source": [
    "The following two functions are used to simulate the rolling process."
   ]
  },
  {
   "cell_type": "code",
   "execution_count": 10,
   "metadata": {},
   "outputs": [],
   "source": [
    "# Simulate the process of rolling a single die untill the faces are all equal\n",
    "def roll_until_same_face(n_sides):    \n",
    "    n_relabelings = 0\n",
    "    faces = np.arange(1, n_sides+1)\n",
    "    \n",
    "    while not check_equal(faces):        \n",
    "        n_relabelings += 1\n",
    "        faces = np.random.choice(faces, size = n_sides, replace=True)\n",
    "    \n",
    "    return n_relabelings\n",
    "\n",
    "# Repeatedly simulate the rolling process\n",
    "def repeat_roll_until_same_face(n_sides, n_repetitions, n_processors=1):\n",
    "    n_relabelings = np.zeros(n_repetitions)\n",
    "\n",
    "    with mp.Pool(n_processors) as p:        \n",
    "        n_relabelings = p.map(lambda x: roll_until_same_face(n_sides), \n",
    "                              np.arange(n_repetitions))\n",
    "    \n",
    "    return n_relabelings"
   ]
  },
  {
   "cell_type": "markdown",
   "metadata": {},
   "source": [
    "Now we simulate the process for dice with 2 &ndash; 10 faces."
   ]
  },
  {
   "cell_type": "code",
   "execution_count": 11,
   "metadata": {},
   "outputs": [],
   "source": [
    "n_repetitions = 100000\n",
    "\n",
    "simulated_relabelings = dict()\n",
    "average_relabelings_simulated = dict()\n",
    "\n",
    "for n_sides in range(2, 10+1):\n",
    "    n_relabelings = repeat_roll_until_same_face(n_sides, n_repetitions, \n",
    "                                                n_processors=12)\n",
    "    simulated_relabelings[n_sides] = deepcopy(n_relabelings)\n",
    "    average_relabelings_simulated[n_sides] = np.mean(n_relabelings)"
   ]
  },
  {
   "cell_type": "markdown",
   "metadata": {},
   "source": [
    "## Final Results <a id=\"final_results\"></a>\n",
    "\n",
    "Finally, we compare the simulation results to the exact results.\n",
    "\n",
    "First, the results table:"
   ]
  },
  {
   "cell_type": "code",
   "execution_count": 12,
   "metadata": {},
   "outputs": [
    {
     "data": {
      "text/html": [
       "<style  type=\"text/css\" >\n",
       "</style><table id=\"T_c6137158_787a_11ea_8020_4bd9bae1a0f8\" ><caption>Average # of Rounds Until Sides are Equal</caption><thead>    <tr>        <th class=\"col_heading level0 col0\" >Number of Sides</th>        <th class=\"col_heading level0 col1\" >Simulated</th>        <th class=\"col_heading level0 col2\" >Exact</th>    </tr></thead><tbody>\n",
       "                <tr>\n",
       "                                <td id=\"T_c6137158_787a_11ea_8020_4bd9bae1a0f8row0_col0\" class=\"data row0 col0\" >2</td>\n",
       "                        <td id=\"T_c6137158_787a_11ea_8020_4bd9bae1a0f8row0_col1\" class=\"data row0 col1\" >2.009400</td>\n",
       "                        <td id=\"T_c6137158_787a_11ea_8020_4bd9bae1a0f8row0_col2\" class=\"data row0 col2\" >2.000000</td>\n",
       "            </tr>\n",
       "            <tr>\n",
       "                                <td id=\"T_c6137158_787a_11ea_8020_4bd9bae1a0f8row1_col0\" class=\"data row1 col0\" >3</td>\n",
       "                        <td id=\"T_c6137158_787a_11ea_8020_4bd9bae1a0f8row1_col1\" class=\"data row1 col1\" >3.803880</td>\n",
       "                        <td id=\"T_c6137158_787a_11ea_8020_4bd9bae1a0f8row1_col2\" class=\"data row1 col2\" >3.857143</td>\n",
       "            </tr>\n",
       "            <tr>\n",
       "                                <td id=\"T_c6137158_787a_11ea_8020_4bd9bae1a0f8row2_col0\" class=\"data row2 col0\" >4</td>\n",
       "                        <td id=\"T_c6137158_787a_11ea_8020_4bd9bae1a0f8row2_col1\" class=\"data row2 col1\" >5.709230</td>\n",
       "                        <td id=\"T_c6137158_787a_11ea_8020_4bd9bae1a0f8row2_col2\" class=\"data row2 col2\" >5.779310</td>\n",
       "            </tr>\n",
       "            <tr>\n",
       "                                <td id=\"T_c6137158_787a_11ea_8020_4bd9bae1a0f8row3_col0\" class=\"data row3 col0\" >5</td>\n",
       "                        <td id=\"T_c6137158_787a_11ea_8020_4bd9bae1a0f8row3_col1\" class=\"data row3 col1\" >7.702650</td>\n",
       "                        <td id=\"T_c6137158_787a_11ea_8020_4bd9bae1a0f8row3_col2\" class=\"data row3 col2\" >7.711982</td>\n",
       "            </tr>\n",
       "            <tr>\n",
       "                                <td id=\"T_c6137158_787a_11ea_8020_4bd9bae1a0f8row4_col0\" class=\"data row4 col0\" >6</td>\n",
       "                        <td id=\"T_c6137158_787a_11ea_8020_4bd9bae1a0f8row4_col1\" class=\"data row4 col1\" >9.548440</td>\n",
       "                        <td id=\"T_c6137158_787a_11ea_8020_4bd9bae1a0f8row4_col2\" class=\"data row4 col2\" >9.655991</td>\n",
       "            </tr>\n",
       "            <tr>\n",
       "                                <td id=\"T_c6137158_787a_11ea_8020_4bd9bae1a0f8row5_col0\" class=\"data row5 col0\" >7</td>\n",
       "                        <td id=\"T_c6137158_787a_11ea_8020_4bd9bae1a0f8row5_col1\" class=\"data row5 col1\" >11.571750</td>\n",
       "                        <td id=\"T_c6137158_787a_11ea_8020_4bd9bae1a0f8row5_col2\" class=\"data row5 col2\" >11.608147</td>\n",
       "            </tr>\n",
       "            <tr>\n",
       "                                <td id=\"T_c6137158_787a_11ea_8020_4bd9bae1a0f8row6_col0\" class=\"data row6 col0\" >8</td>\n",
       "                        <td id=\"T_c6137158_787a_11ea_8020_4bd9bae1a0f8row6_col1\" class=\"data row6 col1\" >13.523720</td>\n",
       "                        <td id=\"T_c6137158_787a_11ea_8020_4bd9bae1a0f8row6_col2\" class=\"data row6 col2\" >13.566288</td>\n",
       "            </tr>\n",
       "            <tr>\n",
       "                                <td id=\"T_c6137158_787a_11ea_8020_4bd9bae1a0f8row7_col0\" class=\"data row7 col0\" >9</td>\n",
       "                        <td id=\"T_c6137158_787a_11ea_8020_4bd9bae1a0f8row7_col1\" class=\"data row7 col1\" >15.510380</td>\n",
       "                        <td id=\"T_c6137158_787a_11ea_8020_4bd9bae1a0f8row7_col2\" class=\"data row7 col2\" >15.529088</td>\n",
       "            </tr>\n",
       "            <tr>\n",
       "                                <td id=\"T_c6137158_787a_11ea_8020_4bd9bae1a0f8row8_col0\" class=\"data row8 col0\" >10</td>\n",
       "                        <td id=\"T_c6137158_787a_11ea_8020_4bd9bae1a0f8row8_col1\" class=\"data row8 col1\" >17.559480</td>\n",
       "                        <td id=\"T_c6137158_787a_11ea_8020_4bd9bae1a0f8row8_col2\" class=\"data row8 col2\" >17.495620</td>\n",
       "            </tr>\n",
       "    </tbody></table>"
      ],
      "text/plain": [
       "<pandas.io.formats.style.Styler at 0x7fb0cf4a3dc0>"
      ]
     },
     "execution_count": 12,
     "metadata": {},
     "output_type": "execute_result"
    }
   ],
   "source": [
    "df = pd.DataFrame({\n",
    "    'Number of Sides' : list(average_relabelings_exact.keys()),\n",
    "    'Simulated' : list(average_relabelings_simulated.values()),\n",
    "    'Exact' : list(average_relabelings_exact.values())}\n",
    ")\n",
    "\n",
    "df.style.hide_index().set_caption(\"Average # of Rounds Until Sides are Equal\")\n"
   ]
  },
  {
   "cell_type": "markdown",
   "metadata": {},
   "source": [
    "Finally, a plot of the results:"
   ]
  },
  {
   "cell_type": "code",
   "execution_count": 13,
   "metadata": {},
   "outputs": [
    {
     "data": {
      "image/png": "[encoded data removed]",
      "text/plain": [
       "<Figure size 432x288 with 1 Axes>"
      ]
     },
     "metadata": {
      "needs_background": "light"
     },
     "output_type": "display_data"
    }
   ],
   "source": [
    "plt.plot(list(average_relabelings_exact.keys()),\n",
    "         list(average_relabelings_exact.values()), \n",
    "         marker='.',\n",
    "        label='Exact')\n",
    "plt.plot(list(average_relabelings_simulated.keys()),\n",
    "         list(average_relabelings_simulated.values()), \n",
    "         marker='.', \n",
    "         label = \"Simulated\")\n",
    "plt.legend()\n",
    "plt.show()"
   ]
  }
 ],
 "metadata": {
  "kernelspec": {
   "display_name": "Python 3",
   "language": "python",
   "name": "python3"
  },
  "language_info": {
   "codemirror_mode": {
    "name": "ipython",
    "version": 3
   },
   "file_extension": ".py",
   "mimetype": "text/x-python",
   "name": "python",
   "nbconvert_exporter": "python",
   "pygments_lexer": "ipython3",
   "version": "3.8.2"
  }
 },
 "nbformat": 4,
 "nbformat_minor": 4
}
