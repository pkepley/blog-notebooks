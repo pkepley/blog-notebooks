{
 "cells": [
  {
   "cell_type": "markdown",
   "metadata": {},
   "source": [
    "In this post, I'll walk through a solution to FiveThirtyEight's [Riddler Classic problem from last week](https://fivethirtyeight.com/features/can-you-catch-the-free-t-shirt/). In this problem, we are asked to consider a spam comment generation process. In this process, spam replies will respond to an initial post and to each subsequently generated spam reply. Spam will accumulate on each post/reply according to identical independent [Poisson processes](https://en.wikipedia.org/wiki/Poisson_point_process) with a common rate of one comment per day (refer to the <a href=\"#original_prompt\">original prompt</a> for a more clear explanation). We are asked: how many spam posts can we expect to have after three days?\n",
    "\n",
    "My solution will have two pieces. First, I'll give an <a href=\"#exact_solution\">exact solution</a> (although some details will be left \"to the reader\"), and then I'll <a href=\"simulation_solution\">simulate the result</a> to validate my exact solution. The final <a href=\"#final_results\">validation results</a> are at the end.\n",
    "\n",
    "For reference, I have copied the <a id =\"original_prompt\"></a> verbatim below:\n",
    "\n",
    ">Last week’s Riddler column garnered six comments on Facebook. However, every single one of those comments was spam. Sometimes, spammers even reply to other spammers’ comments with yet more spam. This got me thinking.\n",
    ">\n",
    ">Over the course of three days, suppose the probability of any spammer making a new comment on this week’s Riddler column over a very short time interval is proportional to the length of that time interval. (For those in the know, I’m saying that spammers follow a Poisson process.) On average, the column gets one brand-new comment of spam per day that is not a reply to any previous comments. Each spam comment or reply also gets its own spam reply at an average rate of one per day.\n",
    ">\n",
    ">For example, after three days, I might have four comments that were not replies to any previous comments, and each of them might have a few replies (and their replies might have replies, which might have further replies, etc.).\n",
    ">\n",
    ">After the three days are up, how many total spam posts (comments plus replies) can I expect to have?"
   ]
  },
  {
   "cell_type": "markdown",
   "metadata": {},
   "source": [
    "## Exact Solution <a id=\"exact_solution\"></a>\n",
    "\n",
    "Throughout this discussion, we will let $X_n$ denote the random interrarival time between the $(n-1)^{th}$ and $n^{th}$ spam comments (for notational convenience, we let $X_0 = 0$ denote the start of the process). We will let $S_n$ denote the time of the $n^{th}$ arrival, which is just the sum of the inter-arrival times, $S_n = \\sum_{k=1}^n X_k$. To keep things a bit more general than in the original prompt, we'll let $\\lambda$ denote the per-comment spam arrival rate, and let $T$ denote the time window during which we observe spam arrivals. We will let $N(T)$ denote the number of spam comments that we observe by time $T$. To be pedantic, let us observe that $N(T)$ is a random variable that takes on non-zero integral values (it represents a count  after all &#128578;). With this notation in mind, the problem statement can be rephrased as: compute $E[N(T)]$. \n",
    "\n",
    "To compute $E[N(T)]$, we will proceed as follows:\n",
    "1. Specify the distribution of the interarrival times $X_n$ for $n \\geq 1$. <a href=\"#density_of_X\">[See here]</a>\n",
    "2. Directly compute $P(N(T) = n)$.  <a href=\"#exact_prob_N\">[See  here]</a>\n",
    "3. Directly compute $E[N(T)]$, i.e. using $E[N(T)] = \\sum_{n=0}^{\\infty} n \\cdot P(N(T) = n)$. <a href=\"#exact_mean_N\">[See  here]</a>\n",
    "\n",
    "I haven't really considered whether there is a simpler approach to computing the expectation or not - i.e. I couldn't think of a more clever solution!"
   ]
  },
  {
   "cell_type": "markdown",
   "metadata": {},
   "source": [
    "### Density of $X_n$ <a id=\"density_of_X\"></a>\n",
    "\n",
    "Once there are $n-1$ comments/replies, the $n^{th}$ spam post will either be a response to either the initial post or one of the $n-1$ comments/replies. Since responses to each post/comment/reply arrive according to indepedent identical Poisson processes, each with rate $\\lambda$, we see that $X_{n}$ will be the minimum of $n$ i.i.d. $\\text{Exp}(\\lambda)$ random variables. Thus, by a standard fact about the [minimum of i.i.d. exponential R.V.'s](https://en.wikipedia.org/wiki/Exponential_distribution#Distribution_of_the_minimum_of_exponential_random_variables),  we have:\n",
    "\n",
    "$$ X_{n} \\sim \\text{Exp}(n\\lambda) \\text{ for $n \\geq 1$}. $$\n",
    "\n",
    "Letting $f_n$ denote the p.d.f. for $X_n$, and $F_n(t)$ its c.d.f., then for $t \\geq 0$ [we have](https://en.wikipedia.org/wiki/Exponential_distribution#Probability_density_function):\n",
    "\n",
    "$$ f_n(t) = (\\lambda n) e^{-\\lambda n t} $$\n",
    "\n",
    "and\n",
    "\n",
    "$$ F_n(t) = 1 - e^{-\\lambda t} $$"
   ]
  },
  {
   "cell_type": "markdown",
   "metadata": {},
   "source": [
    "### Computing $P(N(T) = n)$ <a id=\"exact_prob_N\"></a>\n",
    "\n",
    "Computing $P(N(T) = n)$ is tedious but tractable in general. I will \"leave it to the reader\" to fill out the general case, but will compute the exact value for $n=0,1,2$ (basically, I couldn't think of a clever trick to quickly obtain the general case.\n",
    "\n",
    "#### Case $n = 0$\n",
    "Note that $N(T) = 0$ just in case $X_1 > T$. Thus $P(N(T) = 0) = P(X_1 > 0) = 1 - (1 - e^{-\\lambda T})$ so,\n",
    "\n",
    "$$ P(N(T) = 0) = \\boxed{e^{-\\lambda T}}$$\n",
    "\n",
    "\n",
    "#### Case $n = 1$\n",
    "Note that $N(T) = 1$ just in case $X_1 \\leq T$ and $X_2 + X_1 > T$. So:\n",
    "\n",
    "$$\\begin{array}{rl} P(N(T) = 1) &= P\\left(X_1 \\leq T\\text{ and }X_1 + X_2 > T \\right)\\\\\n",
    "&=\\int_0^T f_1(t)\\cdot P(t + X_2 > T)\\,dt\\\\\n",
    "&=\\int_0^T f_1(t)\\cdot P(X_2 > T - t)\\,dt\\\\\n",
    "&=\\int_0^T f_1(t)\\cdot (1 - F_2(T - t))\\,dt\\\\\n",
    "&=\\int_0^T \\lambda e^{-\\lambda t}e^{-2\\lambda(T - t)}\\,dt\\\\\n",
    "&=e^{-2\\lambda T}\\int_0^T \\lambda e^{\\lambda T}\\,dt \\\\\n",
    "&=\\boxed{e^{-\\lambda T}\\cdot (1 - e^{-\\lambda T})}\n",
    "  \\end{array}$$\n",
    "\n",
    "#### Case $n = 2$\n",
    "Note that $N(T) = 2$ just in case $X_1 + X_2 \\leq T$ and $X_1 + X_2 + X_3 > T$. So:\n",
    "\n",
    "$$\\begin{array}{rl} P(N(T) = 2) &= P\\left(X_1 + X_2 \\leq T\\text{ and }X_1 + X_2 + X_3 > T \\right)\\\\\n",
    "&=\\int_0^{T} \\int_0^{T - t_1} f_1(t_1)\\cdot f_2(t_2)\\cdot P(t_1 + t_2 + X_3 > T)\\,dt_2\\,dt_1\\\\\n",
    "&=\\int_0^{T} \\int_0^{T - t_1} f_1(t_1)\\cdot f_2(t_2)\\cdot (1 - F_3(T - t_1 - t_2))\\,dt_2\\,dt_1\\\\\n",
    "&=\\int_0^{T} \\int_0^{T - t_1} \\lambda e^{-\\lambda t_1} \\cdot 2\\lambda e^{-2\\lambda t_2}\\cdot e^{-3 \\lambda (T - t_1 - t_2)}\\,dt_2\\,dt_1\\\\\n",
    "&=e^{-3 \\lambda T}\\int_0^T \\int_0^{T - t_1} \\lambda e^{2\\lambda t_1} \\cdot 2\\lambda e^{\\lambda t_2} \\,dt_2\\,dt_1\\\\\n",
    "&=e^{-3 \\lambda T}\\int_0^T 2\\lambda e^{2\\lambda t_1} \\int_0^{T - t_1} \\lambda e^{\\lambda t_2} \\,dt_2\\,dt_1\\\\\n",
    "&=e^{-3 \\lambda T}\\int_0^T 2\\lambda e^{2\\lambda t_1} (e^{\\lambda(T-t_1)} - 1) \\,dt_1\\\\\n",
    "&=2 e^{-2 \\lambda T} \\int_0^T \\lambda e^{\\lambda t_1} \\,dt_1 -  e^{-3 \\lambda T}\\int_0^T 2\\lambda e^{2\\lambda t_1} \\,dt_1\\\\\n",
    "&=2 e^{-2 \\lambda T} (e^{\\lambda T} - 1) -  e^{-3 \\lambda T} (e^{2\\lambda T} - 1)\\\\\n",
    "&= e^{-\\lambda T} - 2e^{-2 \\lambda T} + e^{-3 \\lambda T}\\\\\n",
    "&=\\boxed{e^{-\\lambda T}\\cdot (1 - e^{-\\lambda T})^2}\n",
    "  \\end{array}$$\n",
    "\n",
    "#### General $n$ (by hand-waving)\n",
    "\n",
    "The pattern above allows us to conjecture that, in general:\n",
    "\n",
    "$$ \\boxed{P(T(N) = n) = e^{-\\lambda T} \\cdot (1 - e^{-\\lambda T})^n} $$\n",
    "\n",
    "This should be possible to verify pretty easily, but I didn't bother to do it. We will proceed as if I *had* though &#128578;."
   ]
  },
  {
   "cell_type": "markdown",
   "metadata": {},
   "source": [
    "### Computing $E[N(T)]$ <a id=\"exact_mean_N\"></a>\n",
    "\n",
    "With a bit of hand-waving, we showed above that $P(N(T) = n) = e^{-\\lambda T} \\cdot (1 - e^{-\\lambda T})^n$. Hence,\n",
    "\n",
    "$$ \\begin{array}{cl} E[N(T)] &= \\sum_{n=0}^\\infty n \\cdot P(N(T) = n)\\\\\n",
    "  &= e^{-\\lambda T} \\cdot \\sum_{n=1}^\\infty n (1 - e^{-\\lambda T})^n \\\\\n",
    "  &= e^{-\\lambda T} \\cdot \\frac{(1 - e^{-\\lambda T})}{(1 - (1 - e^{-\\lambda T}))^2} \\\\  \n",
    "  &= \\frac{(1 - e^{-\\lambda T})}{e^{-\\lambda T}} \\\\    \n",
    "  &= e^{\\lambda T} - 1  \n",
    "\\end{array}$$\n",
    "\n",
    "So the average number of spam comments by time $T$ for a spam process of mean $\\lambda$ is:\n",
    "\n",
    "$$ E[N(T)] = e^{\\lambda T} - 1  $$\n",
    "\n",
    "For the case considered in the prompt, we have $\\lambda = 1$, and $T = 3$, so the solution to the prompt is:\n",
    "\n",
    "$$ \\boxed{E[N(T_{prompt})] = e^3 - 1 \\approx 19.0855}$$"
   ]
  },
  {
   "cell_type": "markdown",
   "metadata": {},
   "source": [
    "## Simulation Solution <a id=\"simulation_solution\"></a>\n",
    "\n",
    "In this section, we will simulate the process. Because I completed this section *before* I reasoned through the exact approach, my approach here is a bit different from above. Instead of utilizing the observation that the $n^{th}$ inter-arrival time is distributed by an $\\text{Exp}(n\\lambda)$ process (which could result in much more efficient simulations), I just used the fact that responses to each comment/reply follow a Poisson process with rate $\\lambda$. This perspective can be accomodated by arranging responses according to the reply tree structure (i.e. by organizing each reply according to which comment or post it is a reply to).\n",
    "\n",
    "To perform the simulation, we will simulate the number / time of each direct responses that each comment/reply will receive prior to time $T$. This process is iterated for each child and all of its descendants until we run out of responses prior to time $T$. \n",
    "\n",
    "To simulate the number / time of direct responses that each post/comment/reply will receive, we use the standard approach [described here](https://en.wikipedia.org/wiki/Poisson_point_process#Simulation). That is, we use the fact that the number of direct responses, $N_c$, that a comment/reply/post created at time $t$ will have in the window $[t,T]$ is a Poisson r.v., and in particular $N_{c} \\sim \\text{Poisson}(\\lambda \\cdot (T - t))$. The arrival times for its children can then be simulated by generating $N_c$ uniform R.V.'s on the interval $[t, T]$. We repeat this process to generate child responses for each comment until we run out of children. The number of total comments is the count of all children generated, which we compute recursively using the tree structure."
   ]
  },
  {
   "cell_type": "code",
   "execution_count": 1,
   "metadata": {},
   "outputs": [],
   "source": [
    "import numpy as np\n",
    "from scipy.stats import poisson, uniform, linregress\n",
    "import matplotlib.pyplot as plt\n",
    "import seaborn as sns\n",
    "import secrets\n",
    "import networkx as nx\n",
    "from networkx.drawing.nx_agraph import graphviz_layout\n",
    "import pathos.multiprocessing as mp\n",
    "import pandas as pd"
   ]
  },
  {
   "cell_type": "markdown",
   "metadata": {},
   "source": [
    "Here we give a class to represent the comment trees. The tree is represented by a root node which has no parent."
   ]
  },
  {
   "cell_type": "code",
   "execution_count": 2,
   "metadata": {},
   "outputs": [],
   "source": [
    "class ResponseNode:\n",
    "    def __init__(self, time=None, parent_id = None):\n",
    "        self.parent_id = parent_id\n",
    "        self.id = secrets.token_hex(nbytes=4)\n",
    "        if time is None:\n",
    "            time = 0\n",
    "        self.time = time\n",
    "        self.children = []\n",
    "\n",
    "    def __str__(self):\n",
    "        rslt = 'id: {} parent_id: {} time: {:0.05f}\\tn_direct_children: {}\\n'.format(\n",
    "            self.id, self.parent_id, self.time, len(self.children))\n",
    "        for c in self.children:\n",
    "            rslt = rslt + c.__str__()\n",
    "        return rslt\n",
    "        \n",
    "    def countChildren(self):\n",
    "        if self.children:\n",
    "            return len(self.children) + sum([c.countChildren() for c in self.children])\n",
    "        else:\n",
    "            return 0\n",
    "        \n",
    "    def addChildByTime(self, tc):\n",
    "        childNode = ResponseNode(time = tc, parent_id = self.id)\n",
    "        self.children.append(childNode)\n",
    "        \n",
    "        return childNode\n",
    "        \n",
    "            "
   ]
  },
  {
   "cell_type": "markdown",
   "metadata": {},
   "source": [
    "The following function simulates the tree of responses for a single seed post."
   ]
  },
  {
   "cell_type": "code",
   "execution_count": 3,
   "metadata": {},
   "outputs": [],
   "source": [
    "def simulate_responses(Tf, respNode = None, mu=1):\n",
    "    if respNode is None:\n",
    "        respNode = ResponseNode()\n",
    "        \n",
    "    T0 = respNode.time    \n",
    "    responses = []\n",
    "    n_comments = poisson.rvs(mu * (Tf-T0), size=1)    \n",
    "    t_comments = uniform.rvs(loc=T0, scale = (Tf-T0), size=n_comments)\n",
    "\n",
    "    for t in t_comments:\n",
    "        childNode = respNode.addChildByTime(t)          \n",
    "        simulate_responses(Tf, childNode, mu)        \n",
    "        \n",
    "    return respNode.countChildren()"
   ]
  },
  {
   "cell_type": "markdown",
   "metadata": {},
   "source": [
    "The following function is used to graph a single spam tree, and does not impact the final simulation."
   ]
  },
  {
   "cell_type": "code",
   "execution_count": 4,
   "metadata": {},
   "outputs": [],
   "source": [
    "def graph_from_tree(node, G = None):\n",
    "    if G == None:\n",
    "        G = nx.Graph()\n",
    "    \n",
    "    #node_label = (node.id, '{0:0.4f}'.format(node.time))\n",
    "    node_label = '{0:0.3f}'.format(node.time)\n",
    "    \n",
    "    if not G.has_node(node_label):\n",
    "        G.add_node(node_label)\n",
    "        \n",
    "    for c in node.children:\n",
    "        #child_label = (c.id, '{0:0.4f}'.format(c.time))\n",
    "        child_label = '{0:0.3f}'.format(c.time)\n",
    "        \n",
    "        G.add_node(child_label)\n",
    "        G.add_edge(node_label, child_label)\n",
    "        \n",
    "        graph_from_tree(c, G)\n",
    "        \n",
    "    return G"
   ]
  },
  {
   "cell_type": "markdown",
   "metadata": {},
   "source": [
    "### Tree example\n",
    "\n",
    "Here we provide a graph of a single spam tree on the window $[0,3]$. The numbers on the nodes represent the time each comment was observed. The root node corresponds to the seed post which is posted at time $0$."
   ]
  },
  {
   "cell_type": "code",
   "execution_count": 5,
   "metadata": {},
   "outputs": [
    {
     "name": "stdout",
     "output_type": "stream",
     "text": [
      "There were a total of 14 spam replies in this simulation.\n"
     ]
    },
    {
     "data": {
      "image/png": "[encoded data removed]",
      "text/plain": [
       "<Figure size 432x288 with 1 Axes>"
      ]
     },
     "metadata": {},
     "output_type": "display_data"
    }
   ],
   "source": [
    "# Generate a process\n",
    "np.random.seed(1234)\n",
    "rootNode = ResponseNode()\n",
    "simulate_responses(Tf = 3, respNode = rootNode);\n",
    "\n",
    "# Plot the process\n",
    "G = graph_from_tree(rootNode)\n",
    "pos = graphviz_layout(G, prog='dot')\n",
    "nx.draw(G, pos, node_size=0, font_weight='bold', with_labels=True, arrows=False)\n",
    "\n",
    "# How many children?\n",
    "print(\"There were a total of {} spam replies in this simulation.\".format(rootNode.countChildren()))"
   ]
  },
  {
   "cell_type": "markdown",
   "metadata": {},
   "source": [
    "### Simulation\n",
    "\n",
    "Here we will simulate the process for $T = 1,\\ldots,6$, with rate $\\lambda = 1$. Due to inefficiency of the simulation / the exponential trend in number of comments, we limit our number of simulations to $50,000$ runs."
   ]
  },
  {
   "cell_type": "code",
   "execution_count": 6,
   "metadata": {},
   "outputs": [],
   "source": [
    "n_simulations = 5e4\n",
    "T_max = 6"
   ]
  },
  {
   "cell_type": "code",
   "execution_count": 7,
   "metadata": {},
   "outputs": [
    {
     "name": "stdout",
     "output_type": "stream",
     "text": [
      "CPU times: user 6 s, sys: 184 ms, total: 6.19 s\n",
      "Wall time: 3min 45s\n"
     ]
    }
   ],
   "source": [
    "%%time\n",
    "sim_rslts = dict()\n",
    "sim_means = dict()\n",
    "\n",
    "for Tf in range(1, T_max + 1):\n",
    "    with mp.Pool(12) as p:\n",
    "        sim_rslts[Tf] = p.map(lambda x: simulate_responses(Tf = Tf), \n",
    "                              np.arange(n_simulations))\n",
    "        sim_means[Tf] = np.mean(sim_rslts[Tf])"
   ]
  },
  {
   "cell_type": "markdown",
   "metadata": {},
   "source": [
    "Just because we have it, here's a plot of the distribution of total spam responses."
   ]
  },
  {
   "cell_type": "code",
   "execution_count": 8,
   "metadata": {},
   "outputs": [
    {
     "data": {
      "image/png": "[encoded data removed]",
      "text/plain": [
       "<Figure size 432x288 with 1 Axes>"
      ]
     },
     "metadata": {
      "needs_background": "light"
     },
     "output_type": "display_data"
    }
   ],
   "source": [
    "fig, ax = plt.subplots()\n",
    "\n",
    "for Tf in range(1, T_max+1):\n",
    "    ax.hist(sim_rslts[Tf], bins=np.arange(0,200,2), density=True, alpha=0.5, label=\"$T$ = {}\".format(Tf))        \n",
    "ax.legend()\n",
    "ax.set_title(\"Distribution of Total Spam Responses\")\n",
    "ax.set_xlabel(\"Number of total spam responses\")\n",
    "plt.show()"
   ]
  },
  {
   "cell_type": "markdown",
   "metadata": {},
   "source": [
    "## Results Validation <a id=\"final_results\"></a>"
   ]
  },
  {
   "cell_type": "markdown",
   "metadata": {},
   "source": [
    "The following table compares the exact vs simulated mean number of spam messages observed by time $T$ for $T=1,\\ldots,6$ - and demonstrates the exact results are likely correct &#128578;."
   ]
  },
  {
   "cell_type": "code",
   "execution_count": 9,
   "metadata": {},
   "outputs": [
    {
     "data": {
      "text/html": [
       "<style  type=\"text/css\" >\n",
       "</style><table id=\"T_9b4ee2f4_8031_11ea_8845_c0b8839e1dbc\" ><thead>    <tr>        <th class=\"col_heading level0 col0\" >T</th>        <th class=\"col_heading level0 col1\" >simulated_mean_spam_cnt</th>        <th class=\"col_heading level0 col2\" >exact_mean_spam_cnt</th>    </tr></thead><tbody>\n",
       "                <tr>\n",
       "                                <td id=\"T_9b4ee2f4_8031_11ea_8845_c0b8839e1dbcrow0_col0\" class=\"data row0 col0\" >1</td>\n",
       "                        <td id=\"T_9b4ee2f4_8031_11ea_8845_c0b8839e1dbcrow0_col1\" class=\"data row0 col1\" >1.759300</td>\n",
       "                        <td id=\"T_9b4ee2f4_8031_11ea_8845_c0b8839e1dbcrow0_col2\" class=\"data row0 col2\" >1.718282</td>\n",
       "            </tr>\n",
       "            <tr>\n",
       "                                <td id=\"T_9b4ee2f4_8031_11ea_8845_c0b8839e1dbcrow1_col0\" class=\"data row1 col0\" >2</td>\n",
       "                        <td id=\"T_9b4ee2f4_8031_11ea_8845_c0b8839e1dbcrow1_col1\" class=\"data row1 col1\" >6.341900</td>\n",
       "                        <td id=\"T_9b4ee2f4_8031_11ea_8845_c0b8839e1dbcrow1_col2\" class=\"data row1 col2\" >6.389056</td>\n",
       "            </tr>\n",
       "            <tr>\n",
       "                                <td id=\"T_9b4ee2f4_8031_11ea_8845_c0b8839e1dbcrow2_col0\" class=\"data row2 col0\" >3</td>\n",
       "                        <td id=\"T_9b4ee2f4_8031_11ea_8845_c0b8839e1dbcrow2_col1\" class=\"data row2 col1\" >19.322860</td>\n",
       "                        <td id=\"T_9b4ee2f4_8031_11ea_8845_c0b8839e1dbcrow2_col2\" class=\"data row2 col2\" >19.085537</td>\n",
       "            </tr>\n",
       "            <tr>\n",
       "                                <td id=\"T_9b4ee2f4_8031_11ea_8845_c0b8839e1dbcrow3_col0\" class=\"data row3 col0\" >4</td>\n",
       "                        <td id=\"T_9b4ee2f4_8031_11ea_8845_c0b8839e1dbcrow3_col1\" class=\"data row3 col1\" >52.817380</td>\n",
       "                        <td id=\"T_9b4ee2f4_8031_11ea_8845_c0b8839e1dbcrow3_col2\" class=\"data row3 col2\" >53.598150</td>\n",
       "            </tr>\n",
       "            <tr>\n",
       "                                <td id=\"T_9b4ee2f4_8031_11ea_8845_c0b8839e1dbcrow4_col0\" class=\"data row4 col0\" >5</td>\n",
       "                        <td id=\"T_9b4ee2f4_8031_11ea_8845_c0b8839e1dbcrow4_col1\" class=\"data row4 col1\" >144.990660</td>\n",
       "                        <td id=\"T_9b4ee2f4_8031_11ea_8845_c0b8839e1dbcrow4_col2\" class=\"data row4 col2\" >147.413159</td>\n",
       "            </tr>\n",
       "            <tr>\n",
       "                                <td id=\"T_9b4ee2f4_8031_11ea_8845_c0b8839e1dbcrow5_col0\" class=\"data row5 col0\" >6</td>\n",
       "                        <td id=\"T_9b4ee2f4_8031_11ea_8845_c0b8839e1dbcrow5_col1\" class=\"data row5 col1\" >395.499520</td>\n",
       "                        <td id=\"T_9b4ee2f4_8031_11ea_8845_c0b8839e1dbcrow5_col2\" class=\"data row5 col2\" >402.428793</td>\n",
       "            </tr>\n",
       "    </tbody></table>"
      ],
      "text/plain": [
       "<pandas.io.formats.style.Styler at 0x7ff110ad0070>"
      ]
     },
     "execution_count": 9,
     "metadata": {},
     "output_type": "execute_result"
    }
   ],
   "source": [
    "df_rslts = pd.DataFrame({'T' : list(sim_means.keys()), 'simulated_mean_spam_cnt' : list(sim_means.values())})\n",
    "df_rslts['exact_mean_spam_cnt'] = np.exp(df_rslts['T']) - 1\n",
    "df_rslts.style.hide_index()"
   ]
  },
  {
   "cell_type": "markdown",
   "metadata": {},
   "source": [
    "Finally, we show plot the data from the above table to show the great agreement between theoretical and simulated results."
   ]
  },
  {
   "cell_type": "code",
   "execution_count": 10,
   "metadata": {},
   "outputs": [
    {
     "data": {
      "image/png": "[encoded data removed]",
      "text/plain": [
       "<Figure size 432x288 with 1 Axes>"
      ]
     },
     "metadata": {
      "needs_background": "light"
     },
     "output_type": "display_data"
    }
   ],
   "source": [
    "fig, ax = plt.subplots()\n",
    "df_rslts.plot(ax = ax, x='T', y = 'simulated_mean_spam_cnt', marker='.', label='Simulated')\n",
    "df_rslts.plot(ax = ax, x='T', y = 'exact_mean_spam_cnt', marker='.', label='Exact')\n",
    "ax.legend()\n",
    "ax.set_xlabel('$T$')\n",
    "ax.set_ylabel('Mean Spam Count')\n",
    "plt.show()"
   ]
  }
 ],
 "metadata": {
  "kernelspec": {
   "display_name": "Python 3",
   "language": "python",
   "name": "python3"
  },
  "language_info": {
   "codemirror_mode": {
    "name": "ipython",
    "version": 3
   },
   "file_extension": ".py",
   "mimetype": "text/x-python",
   "name": "python",
   "nbconvert_exporter": "python",
   "pygments_lexer": "ipython3",
   "version": "3.8.2"
  }
 },
 "nbformat": 4,
 "nbformat_minor": 4
}
