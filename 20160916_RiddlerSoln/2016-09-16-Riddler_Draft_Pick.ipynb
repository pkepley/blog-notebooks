{
 "cells": [
  {
   "cell_type": "markdown",
   "metadata": {},
   "source": [
    "# 538 Riddler Posted on Sept. 16 2016"
   ]
  },
  {
   "cell_type": "markdown",
   "metadata": {},
   "source": [
    "# The prompt:\n",
    "You are one of 30 team owners in a professional sports league. In the past, your league set the order for its annual draft using the teams’ records from the previous season — the team with the worst record got the first draft pick, the team with the second-worst record got the next pick, and so on. However, due to concerns about teams intentionally losing games to improve their picks, the league adopts a modified system. This year, each team tosses a coin. All the teams that call their coin toss correctly go into Group A, and the teams that lost the toss go into Group B. All the Group A teams pick before all the Group B teams; within each group, picks are ordered in the traditional way, from worst record to best. If your team would have picked 10th in the old system, what is your expected draft position under the new system?\n",
    "\n",
    "Extra credit: Suppose each team is randomly assigned to one of T groups where all the teams in Group 1 pick, then all the teams in Group 2, and so on. (The coin-flipping scenario above is the case where T = 2.) What is the expected draft position of the team with the Nth-best record?"
   ]
  },
  {
   "cell_type": "markdown",
   "metadata": {},
   "source": [
    "# Cop-out:\n",
    "I don't really feel like working through the problem in full generality at this exact moment, though I will work the case $T = 2$ in slightly more generality than the problem was stated. In particular I'll allow for unfair coins, a different number of teams and also a different past season rank."
   ]
  },
  {
   "cell_type": "markdown",
   "metadata": {},
   "source": [
    "# Analytic Solution:"
   ]
  },
  {
   "cell_type": "markdown",
   "metadata": {},
   "source": [
    "Some notation:\n",
    "\n",
    "- $D_{\\text{old}}$ to denote the order we would have been assigned in the old draft, this is 10 in the problem statement, but I'll keep it general \n",
    "- $D$ to represent the draft pick we get in the new system\n",
    "- $A$ and $B$ to represent the event that we are assigned to groups A and B respectively.\n",
    "- $N$ to denote the total number of teams\n",
    "- $N_A$ to denote the number assigned to group A\n",
    "- $O_A$ and $O_B$ to denote the pick order within whichever group we're assigned\n",
    "\n",
    "\n",
    "The description tells us that if we're assigned to group A, our draft pick will correspond to our order within group A. That is, $D = O_A$ when we're assigned to group A. On the other hand, when we're assigned to group B, all of the group A teams pick before any group B team picks. So when we're assigned to group B, we have that $D = N_A + O_B$.\n",
    "\n",
    "This tells us that:\n",
    "$$\n",
    "\\begin{array}{cl}\n",
    "    E[D] &= E[D|A] \\cdot P(A) + E[D|B] \\cdot P(B)\\\\\n",
    "     &= E[O_A] \\cdot P(A) + E[N_A + O_B] \\cdot P(B)\\\\\n",
    "     &= E[O_A] \\cdot P(A) + \\left(E[N_A| B] + E[O_B]\\right) \\cdot P(B)\\\\\n",
    "\\end{array}\n",
    "$$\n",
    "\n",
    "So we need to figure out what our expected order is within either group, i.e. $E[O_A], E[O_B]$, and the expected number of teams assigned to group A, i.e. $E[N_A]$.\n",
    "\n",
    "\n",
    "#### Computing $E[O_A]$ and $E[O_B]$\n",
    "Our old draft pick number was $D_{\\text{old}}$, and our group order $O_A$ in the new pick will  be the rank of $D_{\\text{old}}$ amongst all old-style draft picks assigned to the same group as us. Our rank is one more than the number of teams with lower pick numbers assigned to our group. Since each team is assigned to group A with probability $P(A)$, we see that the number of teams with lower pick orders in group A is a Binomial random variable with $n = D_{\\text{old}} - 1$ and $p = P(A)$. So,\n",
    "$$O_A \\sim 1 + \\text{Binomial}(P(A), D_\\text{old} - 1)$$\n",
    "Hence,\n",
    "$$ E[O_A] = 1 + (D_\\text{old} - 1) \\cdot P(A)$$\n",
    "\n",
    "An analogous expression holds for $E[O_B]$. Note, in the case of a fair coin, we have $P(A) = P(B) = 0.5$ so we actually have that $E[O_A] = E[O_B]$.\n",
    "\n",
    "\n",
    "#### Computing $E[N_A | B]$.\n",
    "A similar argument shows that, when we have been assigned to group B, the number of teams assigned to group A is a binomial random variable with $p = P(A)$ and $n = N - 1$  (i.e. we've already been assigned to group B, so there are only $N-1$ teams that could possibly be assigned to group A).\n",
    "\n",
    "So we have that:\n",
    "$$ E[N_A] = (N - 1) \\cdot P(A) $$\n",
    "\n",
    "\n",
    "### Putting it together:\n",
    "$$\n",
    "\\begin{array}{cl}\n",
    "    E[D] &= E[O_A] \\cdot P(A) + \\left(E[N_A| B] + E[O_B]\\right) \\cdot P(B)\\\\\n",
    "     &= (1 + P(A) (D_{\\text{old}} - 1))  \\cdot P(A) + \\left((N - 1) P(A) + (1 + P(B) (D_{\\text{old}}- 1))\\right) \\cdot P(B)\\\\\n",
    "\\end{array}\n",
    "$$\n",
    "\n",
    "### Solution to the Riddler (no extra credit):\n",
    "Using that $P(A) = P(B) = 0.5$, $N = 30$, and $D_{\\text{old}} = 10$, we see $E[O_A] = E[O_B] = 1 +  0.5 \\cdot 9 = 5.5$ and $E[N_A | B] = 29 \\cdot 0.5 = 14.5$. So:\n",
    "$$\n",
    "    E[D] = 0.5 \\cdot 5.5 + 0.5 \\cdot (5.5 + 14.5) = \\fbox{12.75}\n",
    "$$\n"
   ]
  },
  {
   "cell_type": "markdown",
   "metadata": {},
   "source": [
    "# Simulation:\n",
    "We'll simulate the process as a sanity check for the solution given above."
   ]
  },
  {
   "cell_type": "code",
   "execution_count": 15,
   "metadata": {
    "collapsed": false
   },
   "outputs": [],
   "source": [
    "%matplotlib inline\n",
    "import numpy as np\n",
    "import matplotlib.pyplot as plt"
   ]
  },
  {
   "cell_type": "code",
   "execution_count": 70,
   "metadata": {
    "collapsed": false
   },
   "outputs": [],
   "source": [
    "def analytical_solution(order=10, n_teams = 30, P_A = 0.5):\n",
    "    P_B = 1 - P_A\n",
    "    E_groupA = P_A * (1 + P_A * (order - 1))\n",
    "    E_groupB = P_B * ( (n_teams - 1) * P_A + (1 + P_B * (order - 1) ) )\n",
    "    return E_groupA + E_groupB"
   ]
  },
  {
   "cell_type": "code",
   "execution_count": 32,
   "metadata": {
    "collapsed": true
   },
   "outputs": [],
   "source": [
    "def simulate(n_runs, n_teams=30, order=10, P_A = 0.5):\n",
    "    draft_position = np.zeros(n_runs)    \n",
    "\n",
    "    # flip a coin for each run and each team, \n",
    "    #    correct call > 0.5\n",
    "    #    incorrect call <= 0.5    \n",
    "    rvs = np.random.rand(n_runs, n_teams)\n",
    "    rvs = rvs > P_A\n",
    "    \n",
    "    for i in range(n_runs):\n",
    "        # In this case, you called correctly so you're assigne Group A\n",
    "        if rvs[i, order - 1]:\n",
    "            # All the team numbers that get assigned to Group A:\n",
    "            idx = np.where(rvs[i,:])[0] \n",
    "            \n",
    "            # how many teams get draft picks before you within Group A:\n",
    "            n_before = len(np.where(idx < order - 1)[0])\n",
    "            \n",
    "            # You're draft position:\n",
    "            draft_position[i] = n_before + 1\n",
    "\n",
    "        # In this case, you called incorrectly so you're assigned Group B      \n",
    "        else:\n",
    "            # All the teams that get assigned to to Group B\n",
    "            idx = np.where(~rvs[i,:])[0]\n",
    "            \n",
    "            # How many pick temas get draft picks before you within group B:\n",
    "            n_before_B = len(np.where(idx < order - 1)[0])\n",
    "\n",
    "            # How many pick teams get draft picks before you from group A:\n",
    "            n_before_A = len(np.where(rvs[i,:])[0])\n",
    "\n",
    "            # Add 1 to get your order:\n",
    "            draft_position[i] = n_before_A + n_before_B + 1\n",
    "            \n",
    "        #print rvs[i, order-1], len(np.where(idx < order - 1)[0]), idx\n",
    "    return draft_position"
   ]
  },
  {
   "cell_type": "code",
   "execution_count": 62,
   "metadata": {
    "collapsed": false
   },
   "outputs": [],
   "source": [
    "draft_position = simulate(100000, P_A = 0.5)"
   ]
  },
  {
   "cell_type": "markdown",
   "metadata": {},
   "source": [
    "So what do we get as our expected draft position?"
   ]
  },
  {
   "cell_type": "code",
   "execution_count": 63,
   "metadata": {
    "collapsed": false
   },
   "outputs": [
    {
     "name": "stdout",
     "output_type": "stream",
     "text": [
      "12.79385\n"
     ]
    }
   ],
   "source": [
    "expected_draft_position = np.mean(draft_position)\n",
    "print expected_draft_position"
   ]
  },
  {
   "cell_type": "markdown",
   "metadata": {},
   "source": [
    "Great! We get very close to the analytical solution of $12.75$."
   ]
  },
  {
   "cell_type": "markdown",
   "metadata": {},
   "source": [
    "# Examining the draft position distribution:"
   ]
  },
  {
   "cell_type": "code",
   "execution_count": 87,
   "metadata": {
    "collapsed": false
   },
   "outputs": [
    {
     "data": {
      "image/png": "[encoded data removed]",
      "text/plain": [
       "<matplotlib.figure.Figure at 0x7fdac68a2710>"
      ]
     },
     "metadata": {},
     "output_type": "display_data"
    }
   ],
   "source": [
    "plt.hist(draft_position, bins=30, alpha = 0.5);\n",
    "plt.title('Histogram of Draft Pick Frequencies');\n",
    "plt.xlabel('Draft Pick');\n",
    "plt.ylabel('Frequency (count)');"
   ]
  },
  {
   "cell_type": "markdown",
   "metadata": {},
   "source": [
    "Unsurprisingly, we get a bimodal distribution of draft picks. The first peak comes from the occasions where the team is assigned group A, and the second peak results from those times that we get assigned group B."
   ]
  },
  {
   "cell_type": "markdown",
   "metadata": {},
   "source": [
    "# Examining effect of unfair coins:\n",
    "\n",
    "While playing around with this problem, I started wondering about what would happen if the coin wasn't fair. Pretty clearly, if the probability of getting assigned to group A were 1 or 0... then the new system reduces to the old one. But how bad is the new system for you?"
   ]
  },
  {
   "cell_type": "code",
   "execution_count": 84,
   "metadata": {
    "collapsed": false
   },
   "outputs": [
    {
     "data": {
      "image/png": "[encoded data removed]",
      "text/plain": [
       "<matplotlib.figure.Figure at 0x7fdac6ba4f90>"
      ]
     },
     "metadata": {},
     "output_type": "display_data"
    }
   ],
   "source": [
    "p = np.linspace(0,1,100)\n",
    "E = np.zeros(len(p))\n",
    "for i in range(len(p)):\n",
    "    E[i] = analytical_solution(P_A = p[i])    \n",
    "plt.plot(p, E);\n",
    "plt.title('Expected Draft Pick Under New System vs Proability of being assigned to Group A', y =1.08);\n",
    "plt.xlabel('P(A)');\n",
    "plt.ylabel('E[D]');"
   ]
  }
 ],
 "metadata": {
  "kernelspec": {
   "display_name": "Python 2",
   "language": "python",
   "name": "python2"
  },
  "language_info": {
   "codemirror_mode": {
    "name": "ipython",
    "version": 2
   },
   "file_extension": ".py",
   "mimetype": "text/x-python",
   "name": "python",
   "nbconvert_exporter": "python",
   "pygments_lexer": "ipython2",
   "version": "2.7.12"
  }
 },
 "nbformat": 4,
 "nbformat_minor": 0
}
