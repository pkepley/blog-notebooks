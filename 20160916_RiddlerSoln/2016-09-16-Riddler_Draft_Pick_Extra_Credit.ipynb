{
 "cells": [
  {
   "cell_type": "markdown",
   "metadata": {},
   "source": [
    "I sat down and figured out how things should work in the case of \\(T\\) group assignments - as opposed to just \\(2\\) groups.\n",
    "\n",
    "This is a continuation / generalization of [my previous post](https://pkepley.github.io/2016-09-16-Riddler_Draft_Pick/)."
   ]
  },
  {
   "cell_type": "markdown",
   "metadata": {},
   "source": [
    "# The prompt:\n",
    "You are one of 30 team owners in a professional sports league. In the past, your league set the order for its annual draft using the teams’ records from the previous season — the team with the worst record got the first draft pick, the team with the second-worst record got the next pick, and so on. However, due to concerns about teams intentionally losing games to improve their picks, the league adopts a modified system. This year, each team tosses a coin. All the teams that call their coin toss correctly go into Group A, and the teams that lost the toss go into Group B. All the Group A teams pick before all the Group B teams; within each group, picks are ordered in the traditional way, from worst record to best. If your team would have picked 10th in the old system, what is your expected draft position under the new system?\n",
    "\n",
    "Extra credit: Suppose each team is randomly assigned to one of T groups where all the teams in Group 1 pick, then all the teams in Group 2, and so on. (The coin-flipping scenario above is the case where T = 2.) What is the expected draft position of the team with the Nth-best record?"
   ]
  },
  {
   "cell_type": "markdown",
   "metadata": {},
   "source": [
    "# Analytic Solution:"
   ]
  },
  {
   "cell_type": "markdown",
   "metadata": {},
   "source": [
    "Some notation:\n",
    "\n",
    "- \\(D_{\\text{old}}\\) to denote the order we would have been assigned in the old draft, this is 10 in the problem statement, but I'll keep it general \n",
    "- \\(D\\) to represent the draft pick we get in the new system\n",
    "- \\(A_i\\) represents both the \\(i^{th}\\) group and  the event that we are to the \\(i^{th}\\) group\n",
    "- \\(N\\) denotes the total number of teams\n",
    "- \\(T\\) denotes the total number of groups  \n",
    "- \\(N_{A_i}\\) denotes the number of teams assigned to group \\(A_i\\)\n",
    "- \\(O_{A_i}\\) denotes the pick order we are assigned when we get assigned to group \\(i\\)\n",
    "- \\(p_i\\) denotes the probability of getting assigned to group \\(A_i\\)\n"
   ]
  },
  {
   "cell_type": "markdown",
   "metadata": {},
   "source": [
    "The same reasoning as in the previous post implies that if we are assigned to group \\(A_i\\),  our order can be found by adding up the number of teams in groups \\(A_1,A_2,\\ldots, A_{i-1}\\) (since they all get to pick before group \\(A_i\\)) and then adding our order within group \\(A_i\\).\n"
   ]
  },
  {
   "cell_type": "markdown",
   "metadata": {},
   "source": [
    "So we see:\n",
    "$$\n",
    "\\begin{array}{cl}\n",
    "    E[D] &= \\sum_{i=1}^{T} E[D|A_i] \\cdot P_i\\\\\n",
    "        &= \\sum_{i=1}^{T} (1 + E[O_{A_i}] + \\sum_{j = 1}^{i-1} E[N_{A_j}|A_i]) \\cdot P_i\\\\\n",
    "\\end{array}\n",
    "$$\n",
    "\n"
   ]
  },
  {
   "cell_type": "markdown",
   "metadata": {},
   "source": [
    "#### Computing \\(E[O_{A_i}]\\)\n",
    "\n",
    "Now, <a href=\"https://pkepley.github.io/2016-09-16-Riddler_Draft_Pick/#Computing-\\(E[O_A]\\)-and-\\(E[O_B]\\)\"> like before,</a> we see that \\(O_{A_i} \\sim \\text{Binomial}(D_{\\text} - 1, P_i) \\), and hence\n",
    "\n",
    "$$ E[O_{A_i}] = (D_{\\text{old}} - 1) \\cdot P_i $$"
   ]
  },
  {
   "cell_type": "markdown",
   "metadata": {},
   "source": [
    "#### Computing \\(\\sum_{j = 1}^{i-1} E[N_{A_j} | A_i]\\).\n",
    "\n",
    "Now, each team is assigned to group \\(A_j\\) occurs with probability \\(p_i\\), so after we have been assigned to group \\(A_i\\) there are \\(N - 1\\) remaining teams to be distributed across the remaining groups, and the number of teams assigned to group \\(A_j\\) will follow a binomial distribution with \\(p = p_j\\) and \\(n = N - 1\\). So,\n",
    "\n",
    "So we once again find that:\n",
    "$$ E[N_{A_j} | A_i] = (N - 1) \\cdot P_j, $$\n",
    "Thus,\n",
    "$$ \\sum_{j=1}^{i-1} E[N_{A_j} | A_i] = \\sum_{j=1}^{i-1} (N - 1) \\cdot P_j. $$"
   ]
  },
  {
   "cell_type": "markdown",
   "metadata": {},
   "source": [
    "### Putting it together:\n",
    "$$\n",
    "\\begin{array}{cl}\n",
    "    E[D] &= \\sum_{i=1}^{T} E[D|A_i] \\cdot P_i\\\\\n",
    "        &= \\sum_{i=1}^{T} P_i (1 + (D_{\\text{old}} - 1) P_i + \\sum_{j=1}^{i-1} (N - 1) \\cdot P_j)\\\\\n",
    "        &= 1 + (D_{\\text{old}} - 1) \\sum_{i=1}^T P_i^2  + (N - 1) \\sum_{i=1}^{T} \\sum_{j=1}^{i-1}  P_i P_j\\\\\n",
    "\\end{array}\n",
    "$$\n",
    "\n"
   ]
  },
  {
   "cell_type": "markdown",
   "metadata": {},
   "source": [
    "### Extra credit Riddler solution (the case of a fair \\(T\\) sided \"coin\"):\n",
    "\n",
    "In this case, \\(P_i = 1/T\\) for all \\(i\\) so the expression above simplifies:\n",
    "\n",
    "$$\n",
    "\\begin{array}{cl}\n",
    "    E[D] &= 1 + (D_{\\text{old}} - 1) \\sum_{i=1}^T (1/T)^2  + (N - 1) \\sum_{i=1}^{T} \\sum_{j=1}^{i-1}  (1/T)^2\\\\\n",
    "    &= 1 + (D_{\\text{old}} - 1) \\cdot (1/T)  + (N - 1)/T^2 \\cdot \\sum_{i=1}^{T} (i-1)\\\\\n",
    "    &= 1 + (D_{\\text{old}} - 1) \\cdot (1/T)  + (N - 1)/T^2 \\cdot (T  \\cdot (T-1))/2\\\\\n",
    "\\end{array}\n",
    "$$\n",
    "\n",
    "\n",
    "That is,\n",
    "$$\n",
    "E[D] = 1 + \\frac{D_{\\text{old}} - 1}{T}  + \\frac{N - 1}{2} \\left(1 - \\frac{1}{T}\\right)\n",
    "$$\n"
   ]
  },
  {
   "cell_type": "markdown",
   "metadata": {},
   "source": [
    "# Simulation:"
   ]
  },
  {
   "cell_type": "code",
   "execution_count": 1,
   "metadata": {
    "collapsed": false
   },
   "outputs": [],
   "source": [
    "%matplotlib inline\n",
    "import numpy as np\n",
    "import matplotlib.pyplot as plt"
   ]
  },
  {
   "cell_type": "markdown",
   "metadata": {},
   "source": [
    "Implement the analytical solution described above, just for the fair coin."
   ]
  },
  {
   "cell_type": "code",
   "execution_count": 2,
   "metadata": {
    "collapsed": false
   },
   "outputs": [],
   "source": [
    "def analytical_solution(T, order=10, n_teams = 30):    \n",
    "    # order is D_old\n",
    "    # n_teams is N\n",
    "\n",
    "    return 1 + ((order - 1.0)/T) + ((n_teams-1)/2.0) * (1- 1.0/T)"
   ]
  },
  {
   "cell_type": "markdown",
   "metadata": {},
   "source": [
    "Let's quickly check that everything works out as before when we consider the \\(T = 2\\) case."
   ]
  },
  {
   "cell_type": "code",
   "execution_count": 3,
   "metadata": {
    "collapsed": false
   },
   "outputs": [
    {
     "data": {
      "text/plain": [
       "12.75"
      ]
     },
     "execution_count": 3,
     "metadata": {},
     "output_type": "execute_result"
    }
   ],
   "source": [
    "analytical_solution(T = 2, order = 10, n_teams=30)"
   ]
  },
  {
   "cell_type": "markdown",
   "metadata": {},
   "source": [
    "Note that this agrees with our <a href=\"https://pkepley.github.io/2016-09-16-Riddler_Draft_Pick/#Solution-to-the-Riddler-(no-extra-credit):\"> previous computation </a>"
   ]
  },
  {
   "cell_type": "markdown",
   "metadata": {},
   "source": [
    "Now we'll simulate the process as a sanity check for the solution given above."
   ]
  },
  {
   "cell_type": "code",
   "execution_count": 4,
   "metadata": {
    "collapsed": true
   },
   "outputs": [],
   "source": [
    "def simulate(T, n_runs, n_teams=30, order=10):\n",
    "    draft_position = np.zeros(n_runs)    \n",
    "    \n",
    "    # only call the random number generator once:\n",
    "    rvs = np.random.random_integers(1, T, n_teams * n_runs)\n",
    "\n",
    "    # reshape to get all n_runs:\n",
    "    rvs = np.reshape(rvs, (n_runs,n_teams))\n",
    "\n",
    "    for idx in range(n_runs):\n",
    "        # what is our assignment?\n",
    "        assignment = rvs[idx, order - 1]\n",
    "\n",
    "        # how many teams below us were assigned to lower number groups?\n",
    "        n_lower_assignments = len(np.where(rvs[idx,:] < assignment)[0])\n",
    "        \n",
    "        # how many teams with lower order than ours are in our group?\n",
    "        n_lower_in_group = len(np.where(rvs[idx,0:order-1] == assignment)[0])\n",
    "               \n",
    "        draft_position[idx] = 1 + n_lower_assignments + n_lower_in_group\n",
    "    return draft_position    \n"
   ]
  },
  {
   "cell_type": "markdown",
   "metadata": {},
   "source": [
    "Wrap comparisions up into a nice tidy little function:"
   ]
  },
  {
   "cell_type": "code",
   "execution_count": 5,
   "metadata": {
    "collapsed": false
   },
   "outputs": [],
   "source": [
    "def print_comparision(T, n_runs = 10000, order = 10, n_teams=30):\n",
    "    simulated_draft_position = np.mean(simulate(T, n_runs, n_teams=n_teams, order=order))\n",
    "    analytical_draft_position = analytical_solution(T, order=order, n_teams=n_teams)\n",
    "\n",
    "    print 'T = {0}'.format(T)\n",
    "    print 'Expected draft position (simulated) : {0}'.format(simulated_draft_position)\n",
    "    print 'Expected draft position (analytical): {0}'.format(analytical_draft_position)"
   ]
  },
  {
   "cell_type": "markdown",
   "metadata": {},
   "source": [
    "Let's check that our analytical results agree with our simulations."
   ]
  },
  {
   "cell_type": "code",
   "execution_count": 6,
   "metadata": {
    "collapsed": false
   },
   "outputs": [
    {
     "name": "stdout",
     "output_type": "stream",
     "text": [
      "T = 2\n",
      "Expected draft position (simulated) : 12.74021\n",
      "Expected draft position (analytical): 12.75\n",
      "T = 3\n",
      "Expected draft position (simulated) : 13.62009\n",
      "Expected draft position (analytical): 13.6666666667\n",
      "T = 4\n",
      "Expected draft position (simulated) : 14.13053\n",
      "Expected draft position (analytical): 14.125\n",
      "T = 5\n",
      "Expected draft position (simulated) : 14.46331\n",
      "Expected draft position (analytical): 14.4\n",
      "T = 6\n",
      "Expected draft position (simulated) : 14.56901\n",
      "Expected draft position (analytical): 14.5833333333\n",
      "T = 7\n",
      "Expected draft position (simulated) : 14.72993\n",
      "Expected draft position (analytical): 14.7142857143\n",
      "T = 8\n",
      "Expected draft position (simulated) : 14.83664\n",
      "Expected draft position (analytical): 14.8125\n",
      "T = 9\n",
      "Expected draft position (simulated) : 14.8764\n",
      "Expected draft position (analytical): 14.8888888889\n",
      "T = 10\n",
      "Expected draft position (simulated) : 14.94364\n",
      "Expected draft position (analytical): 14.95\n"
     ]
    }
   ],
   "source": [
    "for T in range(2,11):\n",
    "    print_comparision(T, n_runs = 100000)"
   ]
  },
  {
   "cell_type": "markdown",
   "metadata": {},
   "source": [
    "Good! Our computations seem to agree with our analytical results pretty well."
   ]
  },
  {
   "cell_type": "markdown",
   "metadata": {},
   "source": [
    "# Examining the distribution of draft picks:"
   ]
  },
  {
   "cell_type": "markdown",
   "metadata": {},
   "source": [
    "Let's check out the draft pick distribution changes when we change \\(T\\) while keeping our draft order at  \\(D_\\{text{old}} = 10\\) and the number of teams \\(N = 30\\) constant. \n",
    "\n",
    "We'll simulate a lot of draft picks for each \\(T\\) and plot the corresponding histograms."
   ]
  },
  {
   "cell_type": "code",
   "execution_count": 7,
   "metadata": {
    "collapsed": false
   },
   "outputs": [],
   "source": [
    "def plot_distribution(T, n_runs=10000, n_teams = 30, order = 10):\n",
    "    draft_position = simulate(T, n_runs, n_teams=n_teams, order=order)    \n",
    "    plt.hist(draft_position, bins= n_teams, range=[1,n_teams], alpha = 0.5)\n",
    "    plt.title('Histogram of Draft Pick Frequencies (T = {0})'.format(T));\n",
    "    plt.xlabel('Draft Pick');\n",
    "    plt.ylabel('Frequency (count)');    "
   ]
  },
  {
   "cell_type": "code",
   "execution_count": 8,
   "metadata": {
    "collapsed": false
   },
   "outputs": [
    {
     "data": {
      "image/png": "[encoded data removed]",
      "text/plain": [
       "<matplotlib.figure.Figure at 0x7f1ec46c4c90>"
      ]
     },
     "metadata": {},
     "output_type": "display_data"
    },
    {
     "data": {
      "image/png": "[encoded data removed]",
      "text/plain": [
       "<matplotlib.figure.Figure at 0x7f1ec2235f90>"
      ]
     },
     "metadata": {},
     "output_type": "display_data"
    },
    {
     "data": {
      "image/png": "[encoded data removed]",
      "text/plain": [
       "<matplotlib.figure.Figure at 0x7f1ec2235f10>"
      ]
     },
     "metadata": {},
     "output_type": "display_data"
    },
    {
     "data": {
      "image/png": "[encoded data removed]",
      "text/plain": [
       "<matplotlib.figure.Figure at 0x7f1ec1f0ee10>"
      ]
     },
     "metadata": {},
     "output_type": "display_data"
    }
   ],
   "source": [
    "plot_distribution(2, n_runs = 100000); plt.show();\n",
    "plot_distribution(3, n_runs = 100000); plt.show();\n",
    "plot_distribution(4, n_runs = 100000); plt.show();\n",
    "plot_distribution(100, n_runs = 100000); plt.show()"
   ]
  },
  {
   "cell_type": "markdown",
   "metadata": {},
   "source": [
    "We see that when there are \\(T\\) groups, the histogram essentially follows a \\(T\\) modal distribution (see analytic discussion above, this is not unexpected, the reasoning is similar to our <a href=\"https://pkepley.github.io/2016-09-16-Riddler_Draft_Pick/#Examining-the-draft-position-distribution:\">observations from before</a>). Also, as \\(T\\) gets large the distribution of picks tends toward a uniform distribution. Basically, the more groups to distribute the teams in, the less effect the old-style ordering has on the outcome."
   ]
  },
  {
   "cell_type": "code",
   "execution_count": null,
   "metadata": {
    "collapsed": true
   },
   "outputs": [],
   "source": []
  }
 ],
 "metadata": {
  "kernelspec": {
   "display_name": "Python 2",
   "language": "python",
   "name": "python2"
  },
  "language_info": {
   "codemirror_mode": {
    "name": "ipython",
    "version": 2
   },
   "file_extension": ".py",
   "mimetype": "text/x-python",
   "name": "python",
   "nbconvert_exporter": "python",
   "pygments_lexer": "ipython2",
   "version": "2.7.12"
  }
 },
 "nbformat": 4,
 "nbformat_minor": 0
}
